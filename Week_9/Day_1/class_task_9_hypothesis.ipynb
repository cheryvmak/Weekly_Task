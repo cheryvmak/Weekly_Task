{
 "cells": [
  {
   "cell_type": "code",
   "execution_count": 73,
   "id": "2a0f0c31",
   "metadata": {},
   "outputs": [],
   "source": [
    "#!pip install gdown\n",
    "import gdown\n",
    "from scipy import stats"
   ]
  },
  {
   "cell_type": "code",
   "execution_count": 74,
   "id": "61c23f2c",
   "metadata": {},
   "outputs": [
    {
     "name": "stderr",
     "output_type": "stream",
     "text": [
      "Downloading...\n",
      "From: https://drive.google.com/uc?id=1yB5qSBOLl96Y563nIewKOU8RN_gsY3dO\n",
      "To: c:\\Users\\ncc777\\Desktop\\Data analysis\\a_env\\file_3\\data.csv\n",
      "100%|██████████| 52.0k/52.0k [00:00<00:00, 1.40MB/s]\n"
     ]
    },
    {
     "data": {
      "text/plain": [
       "'data.csv'"
      ]
     },
     "execution_count": 74,
     "metadata": {},
     "output_type": "execute_result"
    }
   ],
   "source": [
    "file_id = '1yB5qSBOLl96Y563nIewKOU8RN_gsY3dO'  # Make sure it's a string\n",
    "gdown.download(f'https://drive.google.com/uc?id={file_id}', 'data.csv', quiet=False)"
   ]
  },
  {
   "cell_type": "code",
   "execution_count": 75,
   "id": "5f31ddae",
   "metadata": {},
   "outputs": [],
   "source": [
    "import pandas as pd\n",
    "import numpy as np\n"
   ]
  },
  {
   "cell_type": "code",
   "execution_count": 76,
   "id": "b15b91d3",
   "metadata": {},
   "outputs": [
    {
     "data": {
      "text/html": [
       "<div>\n",
       "<style scoped>\n",
       "    .dataframe tbody tr th:only-of-type {\n",
       "        vertical-align: middle;\n",
       "    }\n",
       "\n",
       "    .dataframe tbody tr th {\n",
       "        vertical-align: top;\n",
       "    }\n",
       "\n",
       "    .dataframe thead th {\n",
       "        text-align: right;\n",
       "    }\n",
       "</style>\n",
       "<table border=\"1\" class=\"dataframe\">\n",
       "  <thead>\n",
       "    <tr style=\"text-align: right;\">\n",
       "      <th></th>\n",
       "      <th>Unnamed: 0</th>\n",
       "      <th>country</th>\n",
       "      <th>food_category</th>\n",
       "      <th>consumption</th>\n",
       "      <th>co2_emission</th>\n",
       "    </tr>\n",
       "  </thead>\n",
       "  <tbody>\n",
       "    <tr>\n",
       "      <th>0</th>\n",
       "      <td>1</td>\n",
       "      <td>Argentina</td>\n",
       "      <td>pork</td>\n",
       "      <td>10.51</td>\n",
       "      <td>37.20</td>\n",
       "    </tr>\n",
       "    <tr>\n",
       "      <th>1</th>\n",
       "      <td>2</td>\n",
       "      <td>Argentina</td>\n",
       "      <td>poultry</td>\n",
       "      <td>38.66</td>\n",
       "      <td>41.53</td>\n",
       "    </tr>\n",
       "    <tr>\n",
       "      <th>2</th>\n",
       "      <td>3</td>\n",
       "      <td>Argentina</td>\n",
       "      <td>beef</td>\n",
       "      <td>55.48</td>\n",
       "      <td>1712.00</td>\n",
       "    </tr>\n",
       "    <tr>\n",
       "      <th>3</th>\n",
       "      <td>4</td>\n",
       "      <td>Argentina</td>\n",
       "      <td>lamb_goat</td>\n",
       "      <td>1.56</td>\n",
       "      <td>54.63</td>\n",
       "    </tr>\n",
       "    <tr>\n",
       "      <th>4</th>\n",
       "      <td>5</td>\n",
       "      <td>Argentina</td>\n",
       "      <td>fish</td>\n",
       "      <td>4.36</td>\n",
       "      <td>6.96</td>\n",
       "    </tr>\n",
       "  </tbody>\n",
       "</table>\n",
       "</div>"
      ],
      "text/plain": [
       "   Unnamed: 0    country food_category  consumption  co2_emission\n",
       "0           1  Argentina          pork        10.51         37.20\n",
       "1           2  Argentina       poultry        38.66         41.53\n",
       "2           3  Argentina          beef        55.48       1712.00\n",
       "3           4  Argentina     lamb_goat         1.56         54.63\n",
       "4           5  Argentina          fish         4.36          6.96"
      ]
     },
     "execution_count": 76,
     "metadata": {},
     "output_type": "execute_result"
    }
   ],
   "source": [
    "# Read the downloaded CSV file\n",
    "df = pd.read_csv('data.csv')\n",
    "df.head()"
   ]
  },
  {
   "cell_type": "code",
   "execution_count": 77,
   "id": "167b27cb",
   "metadata": {},
   "outputs": [
    {
     "data": {
      "text/html": [
       "<div>\n",
       "<style scoped>\n",
       "    .dataframe tbody tr th:only-of-type {\n",
       "        vertical-align: middle;\n",
       "    }\n",
       "\n",
       "    .dataframe tbody tr th {\n",
       "        vertical-align: top;\n",
       "    }\n",
       "\n",
       "    .dataframe thead th {\n",
       "        text-align: right;\n",
       "    }\n",
       "</style>\n",
       "<table border=\"1\" class=\"dataframe\">\n",
       "  <thead>\n",
       "    <tr style=\"text-align: right;\">\n",
       "      <th></th>\n",
       "      <th>Unnamed: 0</th>\n",
       "      <th>country</th>\n",
       "      <th>food_category</th>\n",
       "      <th>consumption</th>\n",
       "      <th>co2_emission</th>\n",
       "    </tr>\n",
       "  </thead>\n",
       "  <tbody>\n",
       "    <tr>\n",
       "      <th>2</th>\n",
       "      <td>3</td>\n",
       "      <td>Argentina</td>\n",
       "      <td>beef</td>\n",
       "      <td>55.48</td>\n",
       "      <td>1712.0</td>\n",
       "    </tr>\n",
       "  </tbody>\n",
       "</table>\n",
       "</div>"
      ],
      "text/plain": [
       "   Unnamed: 0    country food_category  consumption  co2_emission\n",
       "2           3  Argentina          beef        55.48        1712.0"
      ]
     },
     "execution_count": 77,
     "metadata": {},
     "output_type": "execute_result"
    }
   ],
   "source": [
    "# Select Argentina beef consumption\n",
    "arg_beef = df[(df[\"country\"]==\"Argentina\") & (df[\"food_category\"]==\"beef\")]\n",
    "arg_beef"
   ]
  },
  {
   "cell_type": "code",
   "execution_count": 78,
   "id": "8183e230",
   "metadata": {},
   "outputs": [
    {
     "data": {
      "text/plain": [
       "2    55.48\n",
       "Name: consumption, dtype: float64"
      ]
     },
     "execution_count": 78,
     "metadata": {},
     "output_type": "execute_result"
    }
   ],
   "source": [
    "arg_consump = arg_beef[\"consumption\"]\n",
    "arg_consump"
   ]
  },
  {
   "cell_type": "code",
   "execution_count": 79,
   "id": "195429dc",
   "metadata": {},
   "outputs": [
    {
     "name": "stdout",
     "output_type": "stream",
     "text": [
      "55.48\n",
      "Mean Beef Consumption (Argentina): 55.48\n"
     ]
    }
   ],
   "source": [
    "arg_consump_mean = arg_consump.mean()\n",
    "print(arg_consump_mean)\n",
    "print(\"Mean Beef Consumption (Argentina):\", arg_consump_mean)"
   ]
  },
  {
   "cell_type": "code",
   "execution_count": 80,
   "id": "711de7a9",
   "metadata": {},
   "outputs": [
    {
     "data": {
      "text/plain": [
       "array(['Argentina', 'Australia', 'Albania', 'Iceland', 'New Zealand',\n",
       "       'USA', 'Uruguay', 'Luxembourg', 'Brazil', 'Kazakhstan', 'Sweden',\n",
       "       'Bermuda', 'Denmark', 'Finland', 'Ireland', 'Greece', 'France',\n",
       "       'Canada', 'Norway', 'Hong Kong SAR. China', 'French Polynesia',\n",
       "       'Israel', 'Switzerland', 'Netherlands', 'Kuwait', 'United Kingdom',\n",
       "       'Austria', 'Oman', 'Italy', 'Bahamas', 'Portugal', 'Malta',\n",
       "       'Armenia', 'Slovenia', 'Chile', 'Venezuela', 'Belgium', 'Germany',\n",
       "       'Russia', 'Croatia', 'Belarus', 'Spain', 'Paraguay',\n",
       "       'New Caledonia', 'South Africa', 'Barbados', 'Lithuania', 'Turkey',\n",
       "       'Estonia', 'Mexico', 'Costa Rica', 'Bolivia', 'Ecuador', 'Panama',\n",
       "       'Czech Republic', 'Romania', 'Colombia', 'Maldives', 'Cyprus',\n",
       "       'Serbia', 'United Arab Emirates', 'Algeria', 'Ukraine', 'Pakistan',\n",
       "       'Swaziland', 'Latvia', 'Bosnia and Herzegovina', 'Fiji',\n",
       "       'South Korea', 'Poland', 'Saudi Arabia', 'Botswana', 'Macedonia',\n",
       "       'Hungary', 'Trinidad and Tobago', 'Tunisia', 'Egypt', 'Mauritius',\n",
       "       'Bulgaria', 'Morocco', 'Slovakia', 'Niger', 'Kenya', 'Jordan',\n",
       "       'Japan', 'Georgia', 'Grenada', 'El Salvador', 'Cuba', 'China',\n",
       "       'Honduras', 'Taiwan. ROC', 'Angola', 'Jamaica', 'Namibia',\n",
       "       'Belize', 'Malaysia', 'Zimbabwe', 'Guatemala', 'Uganda', 'Nepal',\n",
       "       'Iran', 'Tanzania', 'Senegal', 'Peru', 'Nicaragua', 'Vietnam',\n",
       "       'Ethiopia', 'Myanmar', 'Congo', 'Zambia', 'Cameroon', 'Madagascar',\n",
       "       'Malawi', 'Guinea', 'Nigeria', 'Rwanda', 'Philippines', 'Ghana',\n",
       "       'Togo', 'Gambia', 'India', 'Thailand', 'Mozambique', 'Cambodia',\n",
       "       'Sierra Leone', 'Sri Lanka', 'Indonesia', 'Liberia', 'Bangladesh'],\n",
       "      dtype=object)"
      ]
     },
     "execution_count": 80,
     "metadata": {},
     "output_type": "execute_result"
    }
   ],
   "source": [
    "df.country.unique()"
   ]
  },
  {
   "cell_type": "code",
   "execution_count": 81,
   "id": "25f3f625",
   "metadata": {},
   "outputs": [
    {
     "data": {
      "text/plain": [
       "array(['pork', 'poultry', 'beef', 'lamb_goat', 'fish', 'eggs', 'dairy',\n",
       "       'wheat', 'rice', 'soybeans', 'nuts'], dtype=object)"
      ]
     },
     "execution_count": 81,
     "metadata": {},
     "output_type": "execute_result"
    }
   ],
   "source": [
    "# check unique value for food category\n",
    "df.food_category.unique()"
   ]
  },
  {
   "cell_type": "code",
   "execution_count": 82,
   "id": "ead40797",
   "metadata": {},
   "outputs": [
    {
     "data": {
      "text/html": [
       "<div>\n",
       "<style scoped>\n",
       "    .dataframe tbody tr th:only-of-type {\n",
       "        vertical-align: middle;\n",
       "    }\n",
       "\n",
       "    .dataframe tbody tr th {\n",
       "        vertical-align: top;\n",
       "    }\n",
       "\n",
       "    .dataframe thead th {\n",
       "        text-align: right;\n",
       "    }\n",
       "</style>\n",
       "<table border=\"1\" class=\"dataframe\">\n",
       "  <thead>\n",
       "    <tr style=\"text-align: right;\">\n",
       "      <th></th>\n",
       "      <th>Unnamed: 0</th>\n",
       "      <th>country</th>\n",
       "      <th>food_category</th>\n",
       "      <th>consumption</th>\n",
       "      <th>co2_emission</th>\n",
       "    </tr>\n",
       "  </thead>\n",
       "  <tbody>\n",
       "    <tr>\n",
       "      <th>1421</th>\n",
       "      <td>1422</td>\n",
       "      <td>Bangladesh</td>\n",
       "      <td>beef</td>\n",
       "      <td>1.28</td>\n",
       "      <td>39.5</td>\n",
       "    </tr>\n",
       "  </tbody>\n",
       "</table>\n",
       "</div>"
      ],
      "text/plain": [
       "      Unnamed: 0     country food_category  consumption  co2_emission\n",
       "1421        1422  Bangladesh          beef         1.28          39.5"
      ]
     },
     "execution_count": 82,
     "metadata": {},
     "output_type": "execute_result"
    }
   ],
   "source": [
    "# Select Bangladesh beef consumption\n",
    "bang_beef = df[(df['country'] == 'Bangladesh') & (df['food_category'] == 'beef')]\n",
    "bang_beef "
   ]
  },
  {
   "cell_type": "code",
   "execution_count": 83,
   "id": "564e7fb5",
   "metadata": {},
   "outputs": [
    {
     "data": {
      "text/plain": [
       "1421    1.28\n",
       "Name: consumption, dtype: float64"
      ]
     },
     "execution_count": 83,
     "metadata": {},
     "output_type": "execute_result"
    }
   ],
   "source": [
    "\n",
    "bang_consump = bang_beef[\"consumption\"]\n",
    "bang_consump"
   ]
  },
  {
   "cell_type": "code",
   "execution_count": 84,
   "id": "cb9f9d1c",
   "metadata": {},
   "outputs": [
    {
     "name": "stdout",
     "output_type": "stream",
     "text": [
      "1.28\n",
      "Mean Beef Consumption ('Bangladesh'): 1.28\n"
     ]
    }
   ],
   "source": [
    "bang_consump_mean = bang_consump.mean()\n",
    "print(bang_consump_mean)\n",
    "print(\"Mean Beef Consumption ('Bangladesh'):\", bang_consump_mean)"
   ]
  },
  {
   "cell_type": "markdown",
   "id": "bc348104",
   "metadata": {},
   "source": [
    "Since the Mean beef consumption in Argentina(55.48) ≠ Mean beef consumption in Bangladesh(1.28), then we reject the null hypothesis and conclude that the beef consumption in Argentina are different from that in Bangladesh"
   ]
  },
  {
   "cell_type": "code",
   "execution_count": null,
   "id": "88a4a29e",
   "metadata": {},
   "outputs": [],
   "source": []
  },
  {
   "cell_type": "code",
   "execution_count": 94,
   "id": "4291d635",
   "metadata": {},
   "outputs": [
    {
     "data": {
      "text/plain": [
       "array([52.37185713, 58.60131181, 57.55029944, 54.98708963, 59.36217535,\n",
       "       61.08290353, 49.11417456, 49.99066446, 57.2220516 , 52.80659571,\n",
       "       57.11178604, 54.74687329, 49.40858539, 62.9818672 , 53.15486785,\n",
       "       56.79399209, 57.28123192, 60.46359881, 62.72055991, 57.36457537,\n",
       "       48.23135415, 59.16321912, 64.38248604, 52.60483088, 53.33652356,\n",
       "       50.42719529, 50.96160677, 50.96607095, 63.34697535, 59.6872832 ])"
      ]
     },
     "execution_count": 94,
     "metadata": {},
     "output_type": "execute_result"
    }
   ],
   "source": [
    "arg_beef_samples = np.random.normal(loc=arg_consump_mean, scale=5, size=30)\n",
    "arg_beef_samples"
   ]
  },
  {
   "cell_type": "code",
   "execution_count": 95,
   "id": "360580dd",
   "metadata": {},
   "outputs": [
    {
     "data": {
      "text/plain": [
       "array([  2.92174532,   0.519579  ,   0.54580128,  -3.99076643,\n",
       "        -1.03042027,  -3.71554602,  11.38856611,  -3.57568644,\n",
       "         8.67101704,   3.75848994,  -4.70506812,  -4.4593978 ,\n",
       "        -3.25220776,  -1.57908205,   7.17403124,  -3.8252908 ,\n",
       "        10.47925658,  -4.98251917,   2.27556637,   0.12348366,\n",
       "        10.84464595,   2.87037382,   5.24161003,  -3.30838863,\n",
       "         0.12323172,   4.9243826 , -13.04966733,   7.95011236,\n",
       "        -0.81305697,  -1.78201721])"
      ]
     },
     "execution_count": 95,
     "metadata": {},
     "output_type": "execute_result"
    }
   ],
   "source": [
    "bang_beef_samples = np.random.normal(loc=bang_consump_mean, scale=5, size=30)\n",
    "bang_beef_samples"
   ]
  },
  {
   "cell_type": "code",
   "execution_count": 96,
   "id": "67f4f8cd",
   "metadata": {},
   "outputs": [],
   "source": [
    "# Two-sample t-test\n",
    "t_stat, p_val = stats.ttest_ind(arg_beef_samples, bang_beef_samples)\n"
   ]
  },
  {
   "cell_type": "code",
   "execution_count": null,
   "id": "270f383d",
   "metadata": {},
   "outputs": [],
   "source": [
    "# one-sample t-test\n",
    "#t_stat, p_val = stats.ttest_1samp(arg_beef_samples, bang_beef_samples)"
   ]
  },
  {
   "cell_type": "code",
   "execution_count": 97,
   "id": "0a050f43",
   "metadata": {},
   "outputs": [
    {
     "name": "stdout",
     "output_type": "stream",
     "text": [
      "T-statistic: 40.96439423292167\n"
     ]
    }
   ],
   "source": [
    "print(\"T-statistic:\", t_stat)"
   ]
  },
  {
   "cell_type": "markdown",
   "id": "eb7a0998",
   "metadata": {},
   "source": [
    "Interpretation\n",
    "\n",
    "* Since the P-value is less than 0.05, we reject null hypothesis, So we say Mean beef consumption in Argentina(55.48) is significantly different from Mean beef consumption in Bangladesh(1.28)."
   ]
  }
 ],
 "metadata": {
  "kernelspec": {
   "display_name": "a_env",
   "language": "python",
   "name": "python3"
  },
  "language_info": {
   "codemirror_mode": {
    "name": "ipython",
    "version": 3
   },
   "file_extension": ".py",
   "mimetype": "text/x-python",
   "name": "python",
   "nbconvert_exporter": "python",
   "pygments_lexer": "ipython3",
   "version": "3.13.6"
  }
 },
 "nbformat": 4,
 "nbformat_minor": 5
}
