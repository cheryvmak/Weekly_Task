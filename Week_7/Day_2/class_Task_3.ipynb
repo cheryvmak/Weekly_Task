{
 "cells": [
  {
   "cell_type": "markdown",
   "id": "d21fcc50",
   "metadata": {},
   "source": [
    "\n",
    "CLASS TASK 3\n"
   ]
  },
  {
   "cell_type": "markdown",
   "id": "78b130ad",
   "metadata": {},
   "source": [
    "$Let  A=\\begin{bmatrix}2&-1\\cr0&3\\end{bmatrix}$ ,    $B=\\begin{bmatrix}1&4\\cr-2&5\\end{bmatrix}$\n",
    "and let the scalars  (c = 2), (d = 3). \n",
    "\n",
    "1. Compute (cA), (dB), and (c+d)A\n",
    "\n",
    "        Solution\n"
   ]
  },
  {
   "cell_type": "markdown",
   "id": "5d493ffc",
   "metadata": {},
   "source": [
    "(cA) = 2 x $\\begin{bmatrix}2&-1\\cr0&3\\end{bmatrix}$ = $\\begin{bmatrix}2 * 2&2 * -1\\cr2 * 0&2 * 3\\end{bmatrix}$\n",
    "= $\\begin{bmatrix}4&-2\\cr0&6\\end{bmatrix}$"
   ]
  },
  {
   "cell_type": "markdown",
   "id": "95843b8b",
   "metadata": {},
   "source": [
    "dB = 3 x $\\begin{bmatrix}1&4\\cr-2&5\\end{bmatrix}$ = $\\begin{bmatrix}3 * 1&3 * 4\\cr3 * -2&3 * 5\\end{bmatrix}$\n",
    " = $\\begin{bmatrix}3&12\\cr-6&15\\end{bmatrix}$"
   ]
  },
  {
   "cell_type": "markdown",
   "id": "08c6e05d",
   "metadata": {},
   "source": [
    "(c+d)A = (2+3) x $\\begin{bmatrix}2&-1\\cr0&3\\end{bmatrix}$ =  (5) x $\\begin{bmatrix}2&-1\\cr0&3\\end{bmatrix}$ = $\\begin{bmatrix}5 * 2&5 * -1\\cr5 * 0&5 * 3\\end{bmatrix}$\n",
    "= $\\begin{bmatrix}10&-5\\cr0&15\\end{bmatrix}$"
   ]
  },
  {
   "cell_type": "markdown",
   "id": "4f2adbc6",
   "metadata": {},
   "source": []
  },
  {
   "cell_type": "markdown",
   "id": "a0d2db65",
   "metadata": {},
   "source": [
    "2. Using the results gotten , Verify the scalar Multiplication Properties\n",
    "\n",
    "Solution\n",
    "\n",
    "i. Associativity of scalar multiplication\n",
    "(c.d)A = c.(dA)\n",
    "\n",
    "(c.d)A = (2 . 3)*$\\begin{bmatrix}2&-1\\cr0&3\\end{bmatrix}$  = 6 * $\\begin{bmatrix}2&-1\\cr0&3\\end{bmatrix}$ = $\\begin{bmatrix}12&-6\\cr0&18\\end{bmatrix}$\n"
   ]
  },
  {
   "cell_type": "markdown",
   "id": "805102a1",
   "metadata": {},
   "source": [
    "c.(dA) = 2. (3 * $\\begin{bmatrix}2&-1\\cr0&3\\end{bmatrix}$) = 2. ($\\begin{bmatrix}6&-3\\cr0&9\\end{bmatrix}$) = $\\begin{bmatrix}12&-6\\cr0&18\\end{bmatrix}$"
   ]
  },
  {
   "cell_type": "markdown",
   "id": "23b04bb5",
   "metadata": {},
   "source": [
    "Since (c.d)A = c.(dA) =  $\\begin{bmatrix}12&-6\\cr0&18\\end{bmatrix}$,  then they satisfy associativity of scalar multiplication"
   ]
  },
  {
   "cell_type": "markdown",
   "id": "3da1e754",
   "metadata": {},
   "source": [
    "ii. Distributivity over Matrix Addition\n",
    "c(A + B) =cA + cB\n"
   ]
  },
  {
   "cell_type": "markdown",
   "id": "1e96fe12",
   "metadata": {},
   "source": [
    "c(A + B) =  2($\\begin{bmatrix}2&-1\\cr0&3\\end{bmatrix}$  + $\\begin{bmatrix}1&4\\cr-2&5\\end{bmatrix}$) = \n",
    "2($\\begin{bmatrix}3&3\\cr-2&8\\end{bmatrix}$)  = $\\begin{bmatrix}6&6\\cr-4&16\\end{bmatrix}$\n"
   ]
  },
  {
   "cell_type": "markdown",
   "id": "780c2421",
   "metadata": {},
   "source": [
    "cA + cB = 2 * $\\begin{bmatrix}2&-1\\cr0&3\\end{bmatrix}$ + 2 * $\\begin{bmatrix}1&4\\cr-2&5\\end{bmatrix}$ =\n",
    "$\\begin{bmatrix}4&-2\\cr0&6\\end{bmatrix}$ + $\\begin{bmatrix}2&8\\cr-4&10\\end{bmatrix}$ = $\\begin{bmatrix}6&6\\cr-4&16\\end{bmatrix}$"
   ]
  },
  {
   "cell_type": "markdown",
   "id": "bb2612a0",
   "metadata": {},
   "source": [
    "Since c(A + B) =cA + cB = $\\begin{bmatrix}6&6\\cr-4&16\\end{bmatrix}$,  then they satisfy Distributivity over Matrix Addition"
   ]
  },
  {
   "cell_type": "markdown",
   "id": "f4922a22",
   "metadata": {},
   "source": [
    "iii. Distributivity over Scalar Addition\n",
    "(c + d)A = cA + dA"
   ]
  },
  {
   "cell_type": "markdown",
   "id": "0fc4e877",
   "metadata": {},
   "source": [
    "(c + d)A = (2 + 3)$\\begin{bmatrix}2&-1\\cr0&3\\end{bmatrix}$ = 5 * $\\begin{bmatrix}2&-1\\cr0&3\\end{bmatrix}$ =\n",
    "$\\begin{bmatrix}10&-5\\cr0&15\\end{bmatrix}$  "
   ]
  },
  {
   "cell_type": "markdown",
   "id": "aff6c15a",
   "metadata": {},
   "source": [
    "cA + dA = 2 * $\\begin{bmatrix}2&-1\\cr0&3\\end{bmatrix}$ + 3 * $\\begin{bmatrix}2&-1\\cr0&3\\end{bmatrix}$  =\n",
    "$\\begin{bmatrix}4&-2\\cr0&6\\end{bmatrix}$ + $\\begin{bmatrix}6&-3\\cr0&9\\end{bmatrix}$ = $\\begin{bmatrix}10&-5\\cr0&15\\end{bmatrix}$\n"
   ]
  },
  {
   "cell_type": "markdown",
   "id": "0d846728",
   "metadata": {},
   "source": [
    "Since (c + d)A = cA + dA = $\\begin{bmatrix}10&-5\\cr0&15\\end{bmatrix}$,  then they satisfy Distributivity over Scalar Addition"
   ]
  },
  {
   "cell_type": "code",
   "execution_count": null,
   "id": "1f256536",
   "metadata": {
    "vscode": {
     "languageId": "plaintext"
    }
   },
   "outputs": [],
   "source": []
  },
  {
   "cell_type": "markdown",
   "id": "88b44455",
   "metadata": {},
   "source": [
    "3. Find the transpose of both matrices\n",
    "\n",
    "Solution\n",
    "\n",
    "The rows becomes the columns and columns become the rows\n",
    "\n",
    "$A^T=\\begin{bmatrix}2&0\\cr-1&3\\end{bmatrix}$ ,   $B^T=\\begin{bmatrix}1&-2\\cr4&5\\end{bmatrix}$\n"
   ]
  },
  {
   "cell_type": "markdown",
   "id": "357eea46",
   "metadata": {},
   "source": [
    "4, Check if (A) and (B) are invertible by computing their determinants. if they are invertible  find $A^{-1}$ and $B^{-1}$\n",
    "\n",
    "Solution\n",
    "\n",
    "Determinant of A\n"
   ]
  },
  {
   "cell_type": "markdown",
   "id": "ea2a0c6e",
   "metadata": {},
   "source": [
    " $|A|$ = $|(ad) - (bc)|$ =  $|(2 * 3) - (-1 * 0)|$ =  $|6 - (0)|$ = $|6 - 0|$ = 6  "
   ]
  },
  {
   "cell_type": "markdown",
   "id": "c486a6bf",
   "metadata": {},
   "source": [
    "Determinant of B"
   ]
  },
  {
   "cell_type": "markdown",
   "id": "9ff03353",
   "metadata": {},
   "source": [
    " $|B|$ = $|(ad) - (bc)|$ =  $|(1 * 5) - (4 * -2)|$ =  $|5 - (-8)|$ = $|5 + 8|$ = 13 "
   ]
  },
  {
   "cell_type": "markdown",
   "id": "1b8c6709",
   "metadata": {},
   "source": [
    "Since the $|A|$  and $|B|$ !=0, then the two matrices are invertible."
   ]
  },
  {
   "cell_type": "markdown",
   "id": "e1c6cc7b",
   "metadata": {},
   "source": [
    "Then the $A^{-1}$ = [($\\frac{1}{|A|}$) * $\\begin{bmatrix}3&-(-1)\\cr-0&2\\end{bmatrix}$] = \n",
    "[($\\frac{1}{6}$) * $\\begin{bmatrix}3&1\\cr0&2\\end{bmatrix}$]  = $\\begin{bmatrix}3 \\div 6&1 \\div 6\\cr0 \\div 6&2 \\div 6\\end{bmatrix}$=\n",
    "$\\begin{bmatrix}1 \\div 2&1 \\div 6\\cr0 \\div 6&1 \\div 3\\end{bmatrix}$ = $\\begin{bmatrix}\\frac{1}{2}&\\frac{1}{6}\\cr0&\\frac{1}{3}\\end{bmatrix}$\n"
   ]
  },
  {
   "cell_type": "markdown",
   "id": "8a3d9489",
   "metadata": {},
   "source": [
    "Then the $B^{-1}$ = [($\\frac{1}{|B|}$) * $\\begin{bmatrix}5&-(4)\\cr-(-2)&1\\end{bmatrix}$] = \n",
    "[($\\frac{1}{13}$) * $\\begin{bmatrix}5&-4\\cr2&1\\end{bmatrix}$]  = $\\begin{bmatrix}5 \\div 13&-4 \\div 13\\cr2 \\div 13&1 \\div 13\\end{bmatrix}$=\n",
    " $\\begin{bmatrix}\\frac{5}{13}&\\frac{-4}{13}\\cr\\frac{2}{13}&\\frac{1}{13}\\end{bmatrix}$\n"
   ]
  },
  {
   "cell_type": "markdown",
   "id": "d00df46a",
   "metadata": {},
   "source": [
    "Therefore, $A^{-1}$ . A = $\\begin{bmatrix}\\frac{1}{2}&\\frac{1}{6}\\cr0&\\frac{1}{3}\\end{bmatrix}$ . $\\begin{bmatrix}2&-1\\cr0&3\\end{bmatrix}$ =\n",
    "$\\begin{bmatrix}1&0\\cr0&1\\end{bmatrix}$ = I"
   ]
  },
  {
   "cell_type": "markdown",
   "id": "86e9e157",
   "metadata": {},
   "source": [
    "and  $B^{-1}$ . B = $\\begin{bmatrix}\\frac{5}{13}&\\frac{-4}{13}\\cr\\frac{2}{13}&\\frac{1}{13}\\end{bmatrix}$ . $\\begin{bmatrix}1&4\\cr-2&5\\end{bmatrix}$ =\n",
    "$\\begin{bmatrix}1&0\\cr0&1\\end{bmatrix}$ = I"
   ]
  }
 ],
 "metadata": {
  "language_info": {
   "name": "python"
  }
 },
 "nbformat": 4,
 "nbformat_minor": 5
}
