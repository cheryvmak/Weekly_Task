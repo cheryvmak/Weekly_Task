{
 "cells": [
  {
   "cell_type": "code",
   "execution_count": 13,
   "id": "7e63e414",
   "metadata": {},
   "outputs": [
    {
     "name": "stdout",
     "output_type": "stream",
     "text": [
      "Matrix A: [[ 2 -1  3]\n",
      " [ 0  4  1]]\n",
      "\n",
      "\n",
      "Shape of Matrix A: (2, 3)\n",
      "\n",
      "\n",
      "Matrix B: [[ 1  2]\n",
      " [-2  0]\n",
      " [ 5 -3]]\n",
      "\n",
      "\n",
      "Shape of Matrix B: (3, 2)\n",
      "\n",
      "\n"
     ]
    }
   ],
   "source": [
    "import numpy as np\n",
    "\n",
    "# Question 1\n",
    "\n",
    "A = np.array([[2, -1, 3],\n",
    "             [0, 4, 1]])\n",
    "print(\"Matrix A:\", A)\n",
    "print('\\n')\n",
    "print('Shape of Matrix A:', A.shape)\n",
    "print('\\n')\n",
    "\n",
    "B = np.array([[1, 2],[-2, 0],\n",
    "             [5, -3]])\n",
    "print(\"Matrix B:\", B)\n",
    "print('\\n')\n",
    "print('Shape of Matrix B:', B.shape)\n",
    "print('\\n')\n",
    "\n",
    "\n",
    "\n"
   ]
  },
  {
   "cell_type": "code",
   "execution_count": null,
   "id": "ff5a716b",
   "metadata": {},
   "outputs": [],
   "source": [
    "# Question 2\n",
    "\n",
    "''' After checking the dimension of the two matrix, \n",
    "Number of rows in matrix A is equal to Number of columns in matrix B. \n",
    "So the matrix AB is defined.(we can multiply it)\n",
    "\n",
    "\n",
    "After checking the dimension of the two matrix, \n",
    "Number of rows in matrix B is equal to Number of columns in matrix A. \n",
    "So the matrix BA is defined.(we can multiply it)\n",
    "\n",
    "After checking the dimension of the two matrix, \n",
    "Number of rows in matrix AB is not equal to Number of columns in matrix BA. \n",
    "So the matrix AB != BA is not defined.(we can not multiply it)\n",
    "\n",
    "'''"
   ]
  },
  {
   "cell_type": "code",
   "execution_count": null,
   "id": "f0aefbb1",
   "metadata": {},
   "outputs": [
    {
     "name": "stdout",
     "output_type": "stream",
     "text": [
      "The matrix multiplication of (A and B) = \n",
      " [[19 -5]\n",
      " [-3 -3]]\n",
      "\n",
      "\n",
      "The shape of matrix AB =  (2, 2)\n",
      "\n",
      "\n",
      "The matrix multiplication of (B and A) = \n",
      " [[  2   7   5]\n",
      " [ -4   2  -6]\n",
      " [ 10 -17  12]]\n",
      "\n",
      "\n",
      "The shape of matrix BA =  (3, 3)\n",
      "\n",
      "\n",
      "Matrix AB != Matrix BA\n"
     ]
    }
   ],
   "source": [
    "# Question 3\n",
    "\n",
    "Mat_mult_1 = np.dot(A, B)\n",
    "print(\"The matrix multiplication of (A and B) = \\n\", Mat_mult_1)\n",
    "print('\\n')\n",
    "print('The shape of matrix AB = ', Mat_mult_1.shape)\n",
    "print('\\n')\n",
    "\n",
    "\n",
    "Mat_mult_2 = np.dot(B, A)\n",
    "print(\"The matrix multiplication of (B and A) = \\n\", Mat_mult_2)\n",
    "print('\\n')\n",
    "print('The shape of matrix BA = ', Mat_mult_2.shape)\n",
    "print('\\n')\n",
    "\n",
    "print('since the two matrix has different shape then Matrix AB != Matrix BA')\n",
    "\n"
   ]
  }
 ],
 "metadata": {
  "kernelspec": {
   "display_name": "Python 3",
   "language": "python",
   "name": "python3"
  },
  "language_info": {
   "codemirror_mode": {
    "name": "ipython",
    "version": 3
   },
   "file_extension": ".py",
   "mimetype": "text/x-python",
   "name": "python",
   "nbconvert_exporter": "python",
   "pygments_lexer": "ipython3",
   "version": "3.13.6"
  }
 },
 "nbformat": 4,
 "nbformat_minor": 5
}
