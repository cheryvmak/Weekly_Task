{
 "cells": [
  {
   "cell_type": "code",
   "execution_count": 7,
   "id": "7e63e414",
   "metadata": {},
   "outputs": [
    {
     "name": "stdout",
     "output_type": "stream",
     "text": [
      "Matrix A: [[ 2 -1  3]\n",
      " [ 0  4  1]]\n",
      "\n",
      "\n",
      "Shape of Matrix A: (2, 3)\n",
      "\n",
      "\n",
      "\n",
      "\n",
      "Matrix B: [[ 1  2]\n",
      " [-2  0]\n",
      " [ 5 -3]]\n",
      "\n",
      "\n",
      "Shape of Matrix B: (3, 2)\n"
     ]
    }
   ],
   "source": [
    "# Question 1\n",
    "\n",
    "import numpy as np\n",
    "\n",
    "A = np.array([[2, -1, 3],\n",
    "              [0, 4, 1]])\n",
    "print(\"Matrix A:\", A)\n",
    "print(\"\\n\")\n",
    "print('Shape of Matrix A:', A.shape)\n",
    "print(\"\\n\")\n",
    "B = np.array([[1, 2],[-2, 0],\n",
    "             [5, -3]])\n",
    "print(\"\\n\")\n",
    "print(\"Matrix B:\", B)\n",
    "print(\"\\n\")\n",
    "print('Shape of Matrix B:', B.shape)"
   ]
  },
  {
   "cell_type": "code",
   "execution_count": 8,
   "id": "ff5a716b",
   "metadata": {},
   "outputs": [
    {
     "data": {
      "text/plain": [
       "' After checking the dimension or Shape of the two matrices, \\nNumber of columns in matrix A is equal to Number of rows in matrix B. \\nSo the matrix AB is defined.(we can multiply it)\\n\\n'"
      ]
     },
     "execution_count": 8,
     "metadata": {},
     "output_type": "execute_result"
    }
   ],
   "source": [
    "# Question 2\n",
    "\n",
    "''' After checking the dimension or Shape of the two matrices, \n",
    "Number of columns in matrix A is equal to Number of rows in matrix B. \n",
    "So the matrix AB is defined.(we can multiply it)\n",
    "\n",
    "'''"
   ]
  },
  {
   "cell_type": "code",
   "execution_count": 15,
   "id": "f0aefbb1",
   "metadata": {},
   "outputs": [
    {
     "name": "stdout",
     "output_type": "stream",
     "text": [
      "The matrix multiplication of (A and B) : \n",
      "\n",
      " [[19 -5]\n",
      " [-3 -3]]\n"
     ]
    }
   ],
   "source": [
    "# Question 3\n",
    "\n",
    "Mat_mult = np.dot(A, B)\n",
    "print(\"The matrix multiplication of (A and B) : \\n\\n\", Mat_mult)\n"
   ]
  }
 ],
 "metadata": {
  "kernelspec": {
   "display_name": "Python 3",
   "language": "python",
   "name": "python3"
  },
  "language_info": {
   "codemirror_mode": {
    "name": "ipython",
    "version": 3
   },
   "file_extension": ".py",
   "mimetype": "text/x-python",
   "name": "python",
   "nbconvert_exporter": "python",
   "pygments_lexer": "ipython3",
   "version": "3.13.1"
  }
 },
 "nbformat": 4,
 "nbformat_minor": 5
}
