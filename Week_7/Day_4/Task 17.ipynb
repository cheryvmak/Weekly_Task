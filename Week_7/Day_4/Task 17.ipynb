{
 "cells": [
  {
   "cell_type": "markdown",
   "id": "0c83cf43",
   "metadata": {},
   "source": [
    "# Question 1\n"
   ]
  },
  {
   "cell_type": "markdown",
   "id": "54c089a6",
   "metadata": {},
   "source": [
    "$ scores=\\begin{bmatrix}80&70&90\\cr60&85&75\\cr95&88&92\\cr70&60&65\\end{bmatrix}$"
   ]
  },
  {
   "cell_type": "code",
   "execution_count": null,
   "id": "7e9c0482",
   "metadata": {},
   "outputs": [
    {
     "name": "stdout",
     "output_type": "stream",
     "text": [
      "Student scores in a matrix:\n",
      " [[80 70 90]\n",
      " [60 85 75]\n",
      " [95 88 92]\n",
      " [70 60 65]]\n"
     ]
    }
   ],
   "source": [
    "import numpy as np\n",
    "\n",
    "# create 4 x 3 matrix \n",
    "scores = np.array([[80, 70, 90],[60, 85, 75], \n",
    "                  [95, 88, 92], [70, 60, 65]])\n",
    "print(\"Student scores in a matrix:\\n\", scores)\n",
    "\n"
   ]
  },
  {
   "cell_type": "markdown",
   "id": "783a839c",
   "metadata": {},
   "source": [
    "Total_score_per_student $=\\begin{bmatrix}80 + 70 +90&\\cr60 +85 +75\\cr95 +88 + 92\\cr70 +60 +65\\end{bmatrix}$ =\n",
    "$\\begin{bmatrix}240&\\cr220\\cr275\\cr195\\end{bmatrix}$"
   ]
  },
  {
   "cell_type": "code",
   "execution_count": 118,
   "id": "2b7792f7",
   "metadata": {},
   "outputs": [
    {
     "name": "stdout",
     "output_type": "stream",
     "text": [
      "Total score for each (student_1, student_2, student_3, student_4) : [240 220 275 195]\n",
      "\n",
      "\n",
      "Student_1_score: 240\n",
      "\n",
      "\n",
      "Student_2_score: 220\n",
      "\n",
      "\n",
      "Student_3_score: 275\n",
      "\n",
      "\n",
      "Student_4_score: 195\n"
     ]
    }
   ],
   "source": [
    "print(\"Total score for each (student_1, student_2, student_3, student_4) :\", np.sum(scores, axis=1))  \n",
    "print(\"\\n\")\n",
    "print(\"Student_1_score:\", np.sum(scores[:1]))\n",
    "print(\"\\n\")\n",
    "print(\"Student_2_score:\", np.sum(scores[1:2]))\n",
    "print(\"\\n\")\n",
    "print(\"Student_3_score:\", np.sum(scores[2:3]))\n",
    "print(\"\\n\")\n",
    "print(\"Student_4_score:\", np.sum(scores[3:4]))"
   ]
  },
  {
   "cell_type": "markdown",
   "id": "7adc1ef3",
   "metadata": {},
   "source": [
    "Weights  = 2 x math\n",
    "\n",
    "Weighted_value  $ = \\begin{bmatrix}2 * 80&70&90\\cr2 * 60&85&75\\cr2 * 95&88&92\\cr2 * 70&60&65\\end{bmatrix}$ \n",
    "$ = \\begin{bmatrix}160&70&90\\cr120&85&75\\cr190&88&92\\cr140&60&65\\end{bmatrix}$"
   ]
  },
  {
   "cell_type": "code",
   "execution_count": 119,
   "id": "dd0db592",
   "metadata": {},
   "outputs": [
    {
     "name": "stdout",
     "output_type": "stream",
     "text": [
      "Student scores:\n",
      " [[160  70  90]\n",
      " [120  85  75]\n",
      " [190  88  92]\n",
      " [140  60  65]]\n"
     ]
    }
   ],
   "source": [
    "scores = scores.copy()\n",
    "scalar_math = 2\n",
    "\n",
    "scores[:, 0] = scalar_math * scores[:, 0]\n",
    "print(\"Student scores:\\n\", scores)"
   ]
  },
  {
   "cell_type": "markdown",
   "id": "89ffdb25",
   "metadata": {},
   "source": [
    "Average_score_ per_Subject $= \\begin{bmatrix}(80 + 60 +95 + 70)\\div 3 &\\cr(70 +85 + 88 + 60)\\div 3\\cr(90 + 75 + 92 + 65)\\div 3\\end{bmatrix}$ =\n",
    "$\\begin{bmatrix}152.5&\\cr75.5\\cr80.5\\end{bmatrix}$"
   ]
  },
  {
   "cell_type": "code",
   "execution_count": 113,
   "id": "e8ee85d5",
   "metadata": {},
   "outputs": [
    {
     "name": "stdout",
     "output_type": "stream",
     "text": [
      "Average score for each (Math, English, Science) : [152.5   75.75  80.5 ]\n"
     ]
    }
   ],
   "source": [
    "print(\"Average score for each (Math, English, Science) :\", np.mean(scores, axis=0))  "
   ]
  },
  {
   "cell_type": "markdown",
   "id": "9543a73a",
   "metadata": {},
   "source": [
    "Weight = $\\begin{bmatrix}0.5&\\cr0.3\\cr0.2\\end{bmatrix}$\n",
    "\n",
    "Final_grades = $\\begin{bmatrix}80&70&90\\cr60&85&75\\cr95&88&92\\cr70&60&65\\end{bmatrix}$ X $\\begin{bmatrix}0.5&\\cr0.3\\cr0.2\\end{bmatrix}$ = $\\begin{bmatrix}119.0&\\cr100.5\\cr139.8\\cr101.0\\end{bmatrix}$ "
   ]
  },
  {
   "cell_type": "code",
   "execution_count": 114,
   "id": "00467260",
   "metadata": {},
   "outputs": [
    {
     "name": "stdout",
     "output_type": "stream",
     "text": [
      "The final_grades: [[119. ]\n",
      " [100.5]\n",
      " [139.8]\n",
      " [101. ]]\n"
     ]
    }
   ],
   "source": [
    "\n",
    "weight_vector = np.array([[0.5], [0.3], [0.2]])\n",
    "final_grades = scores @ weight_vector\n",
    "#final_grade = np.dot(scores, weight_vector)\n",
    "print(\"The final_grades:\", final_grades)"
   ]
  },
  {
   "cell_type": "code",
   "execution_count": 115,
   "id": "613a496c",
   "metadata": {},
   "outputs": [
    {
     "data": {
      "text/plain": [
       "array([[160,  70,  90],\n",
       "       [120,  85,  75],\n",
       "       [190,  88,  92],\n",
       "       [140,  60,  65]])"
      ]
     },
     "execution_count": 115,
     "metadata": {},
     "output_type": "execute_result"
    }
   ],
   "source": [
    "scores"
   ]
  },
  {
   "cell_type": "markdown",
   "id": "fcd8b919",
   "metadata": {},
   "source": [
    "Student_1 Score vector = $\\begin{bmatrix}160&70&90\\end{bmatrix}$"
   ]
  },
  {
   "cell_type": "markdown",
   "id": "64bdeaad",
   "metadata": {},
   "source": [
    "Student_2 Score vector = $\\begin{bmatrix}120&75&85\\end{bmatrix}$"
   ]
  },
  {
   "cell_type": "markdown",
   "id": "2789c502",
   "metadata": {},
   "source": [
    "Student Comparison (1 & 2) = $\\begin{bmatrix}160&70&90\\end{bmatrix}$ - $\\begin{bmatrix}120&75&85\\end{bmatrix}$"
   ]
  },
  {
   "cell_type": "markdown",
   "id": "cfdab33a",
   "metadata": {},
   "source": [
    "Student Comparison (1 & 2) = $\\begin{bmatrix}40&-15&15\\end{bmatrix}$"
   ]
  },
  {
   "cell_type": "markdown",
   "id": "0d821087",
   "metadata": {},
   "source": [
    "In Math - student 1 performs better"
   ]
  },
  {
   "cell_type": "markdown",
   "id": "4d92d277",
   "metadata": {},
   "source": [
    "In English - student 1 performs better"
   ]
  },
  {
   "cell_type": "markdown",
   "id": "864a95b7",
   "metadata": {},
   "source": [
    "In Science - student 1 performs better"
   ]
  },
  {
   "cell_type": "markdown",
   "id": "1c1fbba4",
   "metadata": {},
   "source": [
    "In conclusion: Overall, Student 1 performs better than Student 2"
   ]
  },
  {
   "cell_type": "code",
   "execution_count": 35,
   "id": "ed626ee5",
   "metadata": {},
   "outputs": [
    {
     "name": "stdout",
     "output_type": "stream",
     "text": [
      "Student_1 Score vector: [[160  70  90]]\n",
      "\n",
      "\n",
      "Student_2 Score vector: [[120  85  75]]\n",
      "\n",
      "\n",
      "comparing student (1 & 2) vector score [[ 40 -15  15]]\n"
     ]
    }
   ],
   "source": [
    "student_1_score = scores[0:1]\n",
    "student_2_score = scores[1:2]\n",
    "\n",
    "print(\"Student_1 Score vector:\",student_1_score)\n",
    "print(\"\\n\")\n",
    "print(\"Student_2 Score vector:\",student_2_score)\n",
    "\n",
    "compare_scores = student_1_score - student_2_score\n",
    "print(\"\\n\")\n",
    "print(\"comparing student (1 & 2) vector score\", compare_scores)"
   ]
  },
  {
   "cell_type": "code",
   "execution_count": 120,
   "id": "9432db2d",
   "metadata": {},
   "outputs": [
    {
     "data": {
      "text/plain": [
       "'In math - student 1 performs better\\nIn english - student 1 performs better\\nIn Science - student 1 performs better\\nIn conclusion: Overall, Student 1 performs better than Student 2\\n'"
      ]
     },
     "execution_count": 120,
     "metadata": {},
     "output_type": "execute_result"
    }
   ],
   "source": [
    "'''In math - student 1 performs better\n",
    "In english - student 1 performs better\n",
    "In Science - student 1 performs better\n",
    "In conclusion: Overall, Student 1 performs better than Student 2\n",
    "'''\n"
   ]
  },
  {
   "cell_type": "markdown",
   "id": "4f06a59b",
   "metadata": {},
   "source": [
    "# Question 2"
   ]
  },
  {
   "cell_type": "markdown",
   "id": "c7b4409c",
   "metadata": {},
   "source": [
    "new_scores= $\\begin{bmatrix}82&71&77&55\\cr50&45&79&82\\cr59&68&72&53\\cr30&70&55&64\\cr72&83&65&87\\end{bmatrix}$"
   ]
  },
  {
   "cell_type": "code",
   "execution_count": 125,
   "id": "b9bf1ad4",
   "metadata": {},
   "outputs": [
    {
     "name": "stdout",
     "output_type": "stream",
     "text": [
      "Student scores in a matrix: [[82 71 77 55]\n",
      " [50 45 79 82]\n",
      " [59 68 72 53]\n",
      " [30 70 55 64]\n",
      " [72 83 65 87]]\n"
     ]
    }
   ],
   "source": [
    "new_scores = np.array([[82, 71, 77, 55],[50, 45, 79, 82], \n",
    "                  [59, 68, 72, 53], [30, 70, 55, 64], [72, 83, 65, 87]])\n",
    "print(\"Student scores in a matrix:\", new_scores)"
   ]
  },
  {
   "cell_type": "code",
   "execution_count": 100,
   "id": "c10fbb5f",
   "metadata": {},
   "outputs": [
    {
     "data": {
      "text/plain": [
       "(5, 4)"
      ]
     },
     "execution_count": 100,
     "metadata": {},
     "output_type": "execute_result"
    }
   ],
   "source": [
    "new_scores.shape"
   ]
  },
  {
   "cell_type": "markdown",
   "id": "88e0a4cc",
   "metadata": {},
   "source": [
    "Total_score_per_student $=\\begin{bmatrix}82 + 71 + 77 + 55&\\cr50 + 45 + 79 + 82\\cr59 + 68 + 72 + 53\\cr30 +70 +55 + 64\\cr72 + 83 +65 + 87\\end{bmatrix}$ =\n",
    "$\\begin{bmatrix}285&\\cr256\\cr252\\cr219\\cr307\\end{bmatrix}$"
   ]
  },
  {
   "cell_type": "code",
   "execution_count": 126,
   "id": "e94b40d9",
   "metadata": {},
   "outputs": [
    {
     "name": "stdout",
     "output_type": "stream",
     "text": [
      "Total score for each (student_1, student_2, student_3, student_4, student_5) : [285 256 252 219 307]\n",
      "\n",
      "\n",
      "Student_1_score: 285\n",
      "\n",
      "\n",
      "Student_2_score: 256\n",
      "\n",
      "\n",
      "Student_3_score: 252\n",
      "\n",
      "\n",
      "Student_4_score: 219\n",
      "\n",
      "\n",
      "Student_5_score: 307\n"
     ]
    }
   ],
   "source": [
    "print(\"Total score for each (student_1, student_2, student_3, student_4, student_5) :\", np.sum(new_scores, axis=1)) \n",
    "\n",
    "print(\"\\n\")\n",
    "print(\"Student_1_score:\", np.sum(new_scores[:1]))\n",
    "print(\"\\n\")\n",
    "print(\"Student_2_score:\", np.sum(new_scores[1:2]))\n",
    "print(\"\\n\")\n",
    "print(\"Student_3_score:\", np.sum(new_scores[2:3]))\n",
    "print(\"\\n\")\n",
    "print(\"Student_4_score:\", np.sum(new_scores[3:4]))\n",
    "print(\"\\n\")\n",
    "print(\"Student_5_score:\", np.sum(new_scores[4:5]))"
   ]
  },
  {
   "cell_type": "markdown",
   "id": "ea408292",
   "metadata": {},
   "source": [
    "Average_score_ per_Subject $= \\begin{bmatrix}(82 + 50 + 59 + 30 + 72)\\div 5 &\\cr(71 + 45 + 68 + 70 + 83)\\div 5\\cr(77 + 79 + 72 + 55 + 65)\\div 5\\cr(55 + 82 + 53 + 64 + 87)\\div 5\\end{bmatrix}$ =\n",
    "$\\begin{bmatrix}58.6&\\cr67.4\\cr69.6\\cr68.2\\end{bmatrix}$"
   ]
  },
  {
   "cell_type": "code",
   "execution_count": 127,
   "id": "bd4fba30",
   "metadata": {},
   "outputs": [
    {
     "name": "stdout",
     "output_type": "stream",
     "text": [
      "Average score for each (Math, English, Science, chemistry) : [58.6 67.4 69.6 68.2]\n"
     ]
    }
   ],
   "source": [
    "print(\"Average score for each (Math, English, Science, chemistry) :\", np.mean(new_scores, axis=0)) "
   ]
  },
  {
   "cell_type": "code",
   "execution_count": 128,
   "id": "3e7e722d",
   "metadata": {},
   "outputs": [
    {
     "data": {
      "text/plain": [
       "array([[82, 71, 77, 55],\n",
       "       [50, 45, 79, 82],\n",
       "       [59, 68, 72, 53],\n",
       "       [30, 70, 55, 64],\n",
       "       [72, 83, 65, 87]])"
      ]
     },
     "execution_count": 128,
     "metadata": {},
     "output_type": "execute_result"
    }
   ],
   "source": [
    "new_scores"
   ]
  },
  {
   "cell_type": "markdown",
   "id": "17724953",
   "metadata": {},
   "source": [
    "Weights  = 3 x Science\n",
    "\n",
    "Weighted_value  = $\\begin{bmatrix}82&71&77 * 3&55\\cr50&45&79 * 3&82\\cr59&68&72 * 3&53\\cr30&70&55 * 3&64\\cr72&83&65 * 3&87\\end{bmatrix}$ = $\\begin{bmatrix}82&71&231&55\\cr50&45&237&82\\cr59&68&216&53\\cr30&70&165&64\\cr72&83&195&87\\end{bmatrix}$ "
   ]
  },
  {
   "cell_type": "code",
   "execution_count": 104,
   "id": "a2505599",
   "metadata": {},
   "outputs": [
    {
     "name": "stdout",
     "output_type": "stream",
     "text": [
      "new scores:\n",
      " [[ 82  71 231  55]\n",
      " [ 50  45 237  82]\n",
      " [ 59  68 216  53]\n",
      " [ 30  70 165  64]\n",
      " [ 72  83 195  87]]\n",
      "\n",
      "\n",
      "The final_grades: [[121.8]\n",
      " [108.3]\n",
      " [107.3]\n",
      " [ 81.9]\n",
      " [112.6]]\n"
     ]
    }
   ],
   "source": [
    "new_scores = new_scores.copy()\n",
    "scalar_science = 3\n",
    "\n",
    "new_scores[:, 2] = scalar_science * new_scores[:, 2]\n",
    "print(\"new scores:\\n\", new_scores)\n",
    "print(\"\\n\")\n",
    "\n",
    "weight_vector_2 = np.array([[0.4], [0.2], [0.3], [0.1]])\n",
    "final_grades_2 = new_scores @ weight_vector_2\n",
    "#final_grade = np.dot(scores, weight_vector)\n",
    "print(\"The final_grades:\", final_grades_2)"
   ]
  },
  {
   "cell_type": "markdown",
   "id": "9e742eee",
   "metadata": {},
   "source": [
    "Student_3 Score vector = $\\begin{bmatrix}59&68&72&53\\end{bmatrix}$"
   ]
  },
  {
   "cell_type": "markdown",
   "id": "8eb530a1",
   "metadata": {},
   "source": [
    "Student_4 Score vector = $\\begin{bmatrix}30&70&55&64\\end{bmatrix}$"
   ]
  },
  {
   "cell_type": "markdown",
   "id": "cecee8f9",
   "metadata": {},
   "source": [
    "comparing student (3 & 4) vector score = $\\begin{bmatrix}29&-2&17&-11\\end{bmatrix}$"
   ]
  },
  {
   "cell_type": "markdown",
   "id": "231f8380",
   "metadata": {},
   "source": [
    "In math - student 3 performs better"
   ]
  },
  {
   "cell_type": "markdown",
   "id": "337f1cc8",
   "metadata": {},
   "source": [
    "In english - student 4 performs better"
   ]
  },
  {
   "cell_type": "markdown",
   "id": "f91ec3cf",
   "metadata": {},
   "source": [
    "In Science - student 3 performs better"
   ]
  },
  {
   "cell_type": "markdown",
   "id": "db695988",
   "metadata": {},
   "source": [
    "In chemistry - student 4 performs better"
   ]
  },
  {
   "cell_type": "markdown",
   "id": "aaf8d7af",
   "metadata": {},
   "source": []
  },
  {
   "cell_type": "markdown",
   "id": "f52e5dc1",
   "metadata": {},
   "source": []
  },
  {
   "cell_type": "code",
   "execution_count": 129,
   "id": "41c9e229",
   "metadata": {},
   "outputs": [
    {
     "name": "stdout",
     "output_type": "stream",
     "text": [
      "Student_3 Score vector: [[59 68 72 53]]\n",
      "\n",
      "\n",
      "Student_4 Score vector: [[30 70 55 64]]\n",
      "\n",
      "\n",
      "comparing student (3 & 4) vector score [[ 29  -2  17 -11]]\n"
     ]
    }
   ],
   "source": [
    "student_3_score = new_scores[2:3]\n",
    "student_4_score = new_scores[3:4]\n",
    "\n",
    "print(\"Student_3 Score vector:\",student_3_score)\n",
    "print(\"\\n\")\n",
    "print(\"Student_4 Score vector:\",student_4_score)\n",
    "\n",
    "compare_scores_2 = student_3_score - student_4_score\n",
    "print(\"\\n\")\n",
    "print(\"comparing student (3 & 4) vector score\", compare_scores_2)"
   ]
  },
  {
   "cell_type": "code",
   "execution_count": 85,
   "id": "122f21db",
   "metadata": {},
   "outputs": [
    {
     "data": {
      "text/plain": [
       "'\\nIn math - student 3 performs better\\nIn english - student 4 performs better\\nIn Science - student 3 performs better\\nIn chemistry - student 4 performs better\\n\\n\\n'"
      ]
     },
     "execution_count": 85,
     "metadata": {},
     "output_type": "execute_result"
    }
   ],
   "source": [
    "'''\n",
    "In math - student 3 performs better\n",
    "In english - student 4 performs better\n",
    "In Science - student 3 performs better\n",
    "In chemistry - student 4 performs better\n",
    "\n",
    "\n",
    "'''"
   ]
  },
  {
   "cell_type": "markdown",
   "id": "4ac90b07",
   "metadata": {},
   "source": []
  }
 ],
 "metadata": {
  "kernelspec": {
   "display_name": "base",
   "language": "python",
   "name": "python3"
  },
  "language_info": {
   "codemirror_mode": {
    "name": "ipython",
    "version": 3
   },
   "file_extension": ".py",
   "mimetype": "text/x-python",
   "name": "python",
   "nbconvert_exporter": "python",
   "pygments_lexer": "ipython3",
   "version": "3.13.5"
  }
 },
 "nbformat": 4,
 "nbformat_minor": 5
}
