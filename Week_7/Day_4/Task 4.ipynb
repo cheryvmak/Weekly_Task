{
 "cells": [
  {
   "cell_type": "markdown",
   "id": "248ddf67",
   "metadata": {},
   "source": [
    "\n"
   ]
  },
  {
   "cell_type": "markdown",
   "id": "e2885112",
   "metadata": {},
   "source": [
    "$ scores=\\begin{bmatrix}80&70&90\\cr60&85&75\\cr95&88&92\\cr70&60&65\\end{bmatrix}$"
   ]
  },
  {
   "cell_type": "markdown",
   "id": "96313ead",
   "metadata": {},
   "source": [
    " Total_score_per_student $=\\begin{bmatrix}80 + 70 +90&\\cr60 +85 +75\\cr95 +88 + 92\\cr70 +60 +65\\end{bmatrix}$ =\n",
    "$\\begin{bmatrix}240&\\cr220\\cr275\\cr195\\end{bmatrix}$"
   ]
  },
  {
   "cell_type": "markdown",
   "id": "0c212cdc",
   "metadata": {},
   "source": [
    "Weights  = 2 x math\n",
    "\n",
    "Weighted_value  $ = \\begin{bmatrix}2 * 80&70&90\\cr2 * 60&85&75\\cr2 * 95&88&92\\cr2 * 70&60&65\\end{bmatrix}$ \n",
    "$ = \\begin{bmatrix}160&70&90\\cr120&85&75\\cr190&88&92\\cr140&60&65\\end{bmatrix}$"
   ]
  },
  {
   "cell_type": "markdown",
   "id": "5fca5ba2",
   "metadata": {},
   "source": [
    "Average_score_ per_Subject $= \\begin{bmatrix}(80 + 70 +90)\\div 3 &\\cr(60 +85 +75)\\div 3\\cr(95 +88 + 92)\\div \\cr(70 +60 +65)\\div 3\\end{bmatrix}$ =\n",
    "$\\begin{bmatrix}152.5&\\cr75.5\\cr80.5\\end{bmatrix}$"
   ]
  },
  {
   "cell_type": "markdown",
   "id": "537336c2",
   "metadata": {},
   "source": [
    "Weight = $\\begin{bmatrix}0.5&\\cr0.3\\cr0.2\\end{bmatrix}$\n",
    "\n",
    "Final_grades = $\\begin{bmatrix}80&70&90\\cr60&85&75\\cr95&88&92\\cr70&60&65\\end{bmatrix}$ X $\\begin{bmatrix}0.5&\\cr0.3\\cr0.2\\end{bmatrix}$ = $\\begin{bmatrix}119.0&\\cr100.5\\cr139.8\\cr101.0\\end{bmatrix}$ "
   ]
  },
  {
   "cell_type": "markdown",
   "id": "8e686ec3",
   "metadata": {},
   "source": [
    "Student_1 Score vector = $\\begin{bmatrix}160&70&90\\end{bmatrix}$"
   ]
  },
  {
   "cell_type": "markdown",
   "id": "c062b237",
   "metadata": {},
   "source": [
    "Student_2 Score vector = $\\begin{bmatrix}120&75&85\\end{bmatrix}$\n"
   ]
  },
  {
   "cell_type": "markdown",
   "id": "069beaa3",
   "metadata": {},
   "source": [
    "Student Comparison (1 & 2) = $\\begin{bmatrix}160&70&90\\end{bmatrix}$ - $\\begin{bmatrix}120&75&85\\end{bmatrix}$"
   ]
  },
  {
   "cell_type": "markdown",
   "id": "882cb2d7",
   "metadata": {},
   "source": [
    "Student Comparison (1 & 2) = $\\begin{bmatrix}40&-15&15\\end{bmatrix}$"
   ]
  },
  {
   "cell_type": "markdown",
   "id": "59b3dcab",
   "metadata": {},
   "source": [
    "In Math - student 1 performs better\n"
   ]
  },
  {
   "cell_type": "markdown",
   "id": "00a7381c",
   "metadata": {},
   "source": [
    "In English - student 1 performs better\n"
   ]
  },
  {
   "cell_type": "markdown",
   "id": "80da2fa5",
   "metadata": {},
   "source": [
    "In Science - student 1 performs better\n"
   ]
  },
  {
   "cell_type": "markdown",
   "id": "246aa059",
   "metadata": {},
   "source": [
    "In conclusion: Overall, Student 1 performs better than Student 2"
   ]
  },
  {
   "cell_type": "code",
   "execution_count": null,
   "id": "b197befc",
   "metadata": {
    "vscode": {
     "languageId": "plaintext"
    }
   },
   "outputs": [],
   "source": []
  }
 ],
 "metadata": {
  "language_info": {
   "name": "python"
  }
 },
 "nbformat": 4,
 "nbformat_minor": 5
}
