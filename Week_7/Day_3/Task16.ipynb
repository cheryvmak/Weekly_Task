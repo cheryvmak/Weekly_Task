{
 "cells": [
  {
   "cell_type": "markdown",
   "id": "a963d09a",
   "metadata": {},
   "source": [
    " $ Let  A=\\begin{bmatrix}2&-1\\cr0&3\\end{bmatrix}$ ,    $B=\\begin{bmatrix}1&4\\cr-2&5\\end{bmatrix}$\n",
    "and let the scalars  (c = 2), (d = 3). \n",
    "\n",
    "1. Compute (cA), (dB), and (c+d)A\n",
    "\n",
    "        Solution\n"
   ]
  },
  {
   "cell_type": "code",
   "execution_count": 24,
   "id": "146053f2",
   "metadata": {},
   "outputs": [
    {
     "name": "stdout",
     "output_type": "stream",
     "text": [
      "Matrix A:\n",
      " [[ 2 -1]\n",
      " [ 0  3]]\n",
      "\n",
      "\n",
      "Matrix B:\n",
      " [[ 1  4]\n",
      " [-2  5]]\n",
      "\n",
      "\n",
      "The result of cA:\n",
      " [[ 4 -2]\n",
      " [ 0  6]]\n",
      "\n",
      "\n",
      "The result of dB:\n",
      " [[ 3 12]\n",
      " [-6 15]]\n",
      "\n",
      "\n",
      "The result of (c+d)A:\n",
      " [[10 -5]\n",
      " [ 0 15]]\n"
     ]
    }
   ],
   "source": [
    "import numpy as np\n",
    "\n",
    "A = np.array([[2, -1], \n",
    "              [0, 3]])\n",
    "\n",
    "B = np.array([[1, 4], \n",
    "              [-2, 5]])\n",
    "Scalar_c = 2\n",
    "Scalar_d = 3\n",
    "\n",
    "cA = Scalar_c * A\n",
    "dB = Scalar_d * B\n",
    "mat_asso = (Scalar_c + Scalar_d)* A\n",
    "\n",
    "\n",
    "print(\"Matrix A:\\n\", A)\n",
    "print('\\n')\n",
    "print(\"Matrix B:\\n\", B)\n",
    "print('\\n')\n",
    "print(\"The result of cA:\\n\", cA)\n",
    "print('\\n')\n",
    "print(\"The result of dB:\\n\", dB)\n",
    "print('\\n')\n",
    "print(\"The result of (c+d)A:\\n\", mat_asso)"
   ]
  },
  {
   "cell_type": "code",
   "execution_count": null,
   "id": "b5925a7e",
   "metadata": {},
   "outputs": [],
   "source": []
  },
  {
   "cell_type": "markdown",
   "id": "49bf9fa4",
   "metadata": {},
   "source": [
    "2. Using the results gotten , Verify the scalar Multiplication Properties\n",
    "\n",
    "Solution\n",
    "\n",
    "i. Associativity of scalar multiplication\n",
    "(c.d)A = c.(dA)\n"
   ]
  },
  {
   "cell_type": "code",
   "execution_count": 25,
   "id": "1a861795",
   "metadata": {},
   "outputs": [
    {
     "name": "stdout",
     "output_type": "stream",
     "text": [
      "The result of (c.d)A:\n",
      " [[12 -6]\n",
      " [ 0 18]]\n",
      "\n",
      "\n",
      "The result of c.(dA):\n",
      " [[12 -6]\n",
      " [ 0 18]]\n",
      "\n",
      "\n",
      "Associativity of scalar multiplication of (c.d)A = c.(dA): True\n"
     ]
    }
   ],
   "source": [
    "assoc_1 = (Scalar_c * Scalar_d) * A\n",
    "assoc_2 = Scalar_c * (Scalar_d * A)\n",
    "\n",
    "print(\"The result of (c.d)A:\\n\", assoc_1)\n",
    "print('\\n')\n",
    "print(\"The result of c.(dA):\\n\", assoc_2)\n",
    "print('\\n')\n",
    "print(\"Associativity of scalar multiplication of (c.d)A = c.(dA):\", np.array_equal(assoc_1, assoc_2))"
   ]
  },
  {
   "cell_type": "code",
   "execution_count": null,
   "id": "d92f4504",
   "metadata": {},
   "outputs": [],
   "source": []
  },
  {
   "cell_type": "markdown",
   "id": "df1abb99",
   "metadata": {},
   "source": [
    "ii. Distributivity over Matrix Addition\n",
    "c(A + B) =cA + cB\n"
   ]
  },
  {
   "cell_type": "code",
   "execution_count": 26,
   "id": "005fde57",
   "metadata": {},
   "outputs": [
    {
     "name": "stdout",
     "output_type": "stream",
     "text": [
      "The result of c(A + B):\n",
      " [[ 6  6]\n",
      " [-4 16]]\n",
      "\n",
      "\n",
      "The result of cA + cB:\n",
      " [[ 6  6]\n",
      " [-4 16]]\n",
      "\n",
      "\n",
      "Distributivity over matrix c(A + B)=  cA + cB: True\n"
     ]
    }
   ],
   "source": [
    "dist_1 = Scalar_c * (A + B)\n",
    "dist_2 = Scalar_c * A + Scalar_c * B\n",
    "\n",
    "print(\"The result of c(A + B):\\n\", dist_1)\n",
    "print('\\n')\n",
    "print(\"The result of cA + cB:\\n\", dist_2)\n",
    "print('\\n')\n",
    "print(\"Distributivity over matrix c(A + B)=  cA + cB:\", np.array_equal(dist_1, dist_2))"
   ]
  },
  {
   "cell_type": "markdown",
   "id": "1e206330",
   "metadata": {},
   "source": []
  },
  {
   "cell_type": "markdown",
   "id": "28868dc6",
   "metadata": {},
   "source": [
    "iii. Distributivity over Scalar Addition\n",
    "(c + d)A = cA + dA"
   ]
  },
  {
   "cell_type": "code",
   "execution_count": 27,
   "id": "80cde1e5",
   "metadata": {},
   "outputs": [
    {
     "name": "stdout",
     "output_type": "stream",
     "text": [
      "The result of (c + d)A:\n",
      " [[10 -5]\n",
      " [ 0 15]]\n",
      "\n",
      "\n",
      "The result of cA + dA:\n",
      " [[10 -5]\n",
      " [ 0 15]]\n",
      "\n",
      "\n",
      "Distributivity over Scalar Addition c(A + B)=  cA + cB: True\n"
     ]
    }
   ],
   "source": [
    "dist_scal_1 = (Scalar_c + Scalar_d) * A \n",
    "dist_scal_2 = Scalar_c * A + Scalar_d * A\n",
    "\n",
    "print(\"The result of (c + d)A:\\n\", dist_scal_1)\n",
    "print('\\n')\n",
    "print(\"The result of cA + dA:\\n\", dist_scal_2)\n",
    "print('\\n')\n",
    "print(\"Distributivity over Scalar Addition c(A + B)=  cA + cB:\", np.array_equal(dist_scal_1, dist_scal_2))"
   ]
  },
  {
   "cell_type": "code",
   "execution_count": null,
   "id": "5634ff04",
   "metadata": {},
   "outputs": [],
   "source": []
  },
  {
   "cell_type": "markdown",
   "id": "a9023a8c",
   "metadata": {},
   "source": [
    "3. Find the transpose of both matrices\n",
    "\n",
    "Solution\n",
    "\n",
    "The rows becomes the columns and columns become the rows\n"
   ]
  },
  {
   "cell_type": "code",
   "execution_count": 30,
   "id": "ea8d5c66",
   "metadata": {},
   "outputs": [
    {
     "name": "stdout",
     "output_type": "stream",
     "text": [
      "Matrix A:\n",
      " [[ 2 -1]\n",
      " [ 0  3]]\n",
      "\n",
      "\n",
      "Matrix B:\n",
      " [[ 1  4]\n",
      " [-2  5]]\n",
      "\n",
      "\n",
      "\n",
      "Transpose A^T:\n",
      " [[ 2  0]\n",
      " [-1  3]]\n",
      "\n",
      "\n",
      "\n",
      "Transpose B^T:\n",
      " [[ 1 -2]\n",
      " [ 4  5]]\n"
     ]
    }
   ],
   "source": [
    "print(\"Matrix A:\\n\", A)\n",
    "print('\\n')\n",
    "print(\"Matrix B:\\n\", B)\n",
    "print('\\n')\n",
    "print(\"\\nTranspose A^T:\\n\", A.T)\n",
    "print('\\n')\n",
    "print(\"\\nTranspose B^T:\\n\", B.T)\n"
   ]
  },
  {
   "cell_type": "markdown",
   "id": "6598027c",
   "metadata": {},
   "source": [
    "4, Check if (A) and (B) are invertible by computing their determinants. if they are invertible  find $A^{-1}$ and $B^{-1}$\n",
    "\n",
    "Solution\n",
    "\n",
    "Determinant of A"
   ]
  },
  {
   "cell_type": "code",
   "execution_count": 31,
   "id": "752fa98c",
   "metadata": {},
   "outputs": [
    {
     "name": "stdout",
     "output_type": "stream",
     "text": [
      "Matrix A:\n",
      " [[ 2 -1]\n",
      " [ 0  3]]\n",
      "\n",
      "\n",
      "Matrix B:\n",
      " [[ 1  4]\n",
      " [-2  5]]\n",
      "\n",
      "\n",
      "\n",
      "Determinant |A|: 6.0\n",
      "\n",
      "\n",
      "\n",
      "Determinant |B|: 13.0\n"
     ]
    }
   ],
   "source": [
    "print(\"Matrix A:\\n\", A)\n",
    "print('\\n')\n",
    "print(\"Matrix B:\\n\", B)\n",
    "print('\\n')\n",
    "print(\"\\nDeterminant |A|:\", np.linalg.det(A))\n",
    "print('\\n')\n",
    "print(\"\\nDeterminant |B|:\", np.linalg.det(B))"
   ]
  },
  {
   "cell_type": "markdown",
   "id": "519e0192",
   "metadata": {},
   "source": [
    "Since the $|A|$  and $|B|$ !=0, then the two matrices are invertible."
   ]
  },
  {
   "cell_type": "code",
   "execution_count": 38,
   "id": "9c41406f",
   "metadata": {},
   "outputs": [
    {
     "name": "stdout",
     "output_type": "stream",
     "text": [
      "\n",
      "Inverse A^(-1):\n",
      "' [[0.5        0.16666667]\n",
      " [0.         0.33333333]]\n",
      "\n",
      "\n",
      "\n",
      "Inverse B^(-1):\n",
      "' [[ 0.38461538 -0.30769231]\n",
      " [ 0.15384615  0.07692308]]\n",
      "\n",
      "\n",
      "\n",
      "Inverse A^(-1) x A = I:\n",
      " [[1. 0.]\n",
      " [0. 1.]]\n",
      "\n",
      "Inverse B^(-1) x B = I:\n",
      " [[1. 0.]\n",
      " [0. 1.]]\n"
     ]
    }
   ],
   "source": [
    "print(\"\\nInverse A^(-1):\\n'\", np.linalg.inv(A))\n",
    "print('\\n')\n",
    "print(\"\\nInverse B^(-1):\\n'\", np.linalg.inv(B))\n",
    "print('\\n')\n",
    "\n",
    "Id_mat_a = A @ np.linalg.inv(A)\n",
    "print(\"\\nInverse A^(-1) x A = I:\\n\", Id_mat_a)\n",
    "\n",
    "Id_mat_b = B @ np.linalg.inv(B)\n",
    "print(\"\\nInverse B^(-1) x B = I:\\n\", Id_mat_b)"
   ]
  }
 ],
 "metadata": {
  "kernelspec": {
   "display_name": "base",
   "language": "python",
   "name": "python3"
  },
  "language_info": {
   "codemirror_mode": {
    "name": "ipython",
    "version": 3
   },
   "file_extension": ".py",
   "mimetype": "text/x-python",
   "name": "python",
   "nbconvert_exporter": "python",
   "pygments_lexer": "ipython3",
   "version": "3.13.5"
  }
 },
 "nbformat": 4,
 "nbformat_minor": 5
}
