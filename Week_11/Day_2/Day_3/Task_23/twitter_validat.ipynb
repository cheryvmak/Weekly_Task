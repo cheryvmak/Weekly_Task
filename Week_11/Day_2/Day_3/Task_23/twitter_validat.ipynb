{
 "cells": [
  {
   "cell_type": "code",
   "execution_count": 1,
   "id": "9e591a4f",
   "metadata": {},
   "outputs": [
    {
     "name": "stdout",
     "output_type": "stream",
     "text": [
      "Twitter Field Validation\n",
      "3 validation errors for TwitterUsername\n",
      "username\n",
      "  Value error, Username cannot be Admin or Twitter [type=value_error, input_value='admin', input_type=str]\n",
      "    For further information visit https://errors.pydantic.dev/2.12/v/value_error\n",
      "free_account_post_length\n",
      "  Field required [type=missing, input_value={'username': 'admin', 'fr...rs with great details.'}, input_type=dict]\n",
      "    For further information visit https://errors.pydantic.dev/2.12/v/missing\n",
      "premium_account_post_length\n",
      "  Field required [type=missing, input_value={'username': 'admin', 'fr...rs with great details.'}, input_type=dict]\n",
      "    For further information visit https://errors.pydantic.dev/2.12/v/missing\n"
     ]
    }
   ],
   "source": [
    "from datetime import datetime\n",
    "from decimal import Decimal\n",
    "from pydantic import BaseModel, Field, ValidationError, field_validator\n",
    "from typing import List\n",
    "\n",
    "\n",
    "\n",
    "# Lets create the twitter model\n",
    "class TwitterUsername(BaseModel):\n",
    "        \"\"\"\n",
    "        Username cannot be Admin or Twitter. It only allows (_), special characters not allowed.\n",
    "        Maximum length of username is 15 and minimum length is 4.\n",
    "        Twitter character limit is 280 for free accounts and 25,000 for premium accounts.\n",
    "        \"\"\"\n",
    "        \n",
    "        \n",
    "        \n",
    "        username: str = Field(..., min_length=4, max_length=15, pattern=r\"^[A-Za-z0-9_]+$\")\n",
    "        \n",
    "        # Checking username doesn't have Admin and twitter using decorator\n",
    "        @field_validator(\"username\")\n",
    "        def username_cannot_be(cls, v):\n",
    "                if v.lower() in {'admin', 'twitter'}:\n",
    "                        raise ValueError(\"Username cannot be Admin or Twitter\")\n",
    "                return v\n",
    "        \n",
    "        free_account_post_length: str = Field(..., min_length=1, max_length=280, pattern=r\"^[\\s\\S]+$\")\n",
    "        \n",
    "        premium_account_post_length: str = Field(..., min_length=1, max_length=25000, pattern=r\"^[\\s\\S]+$\")\n",
    "        \n",
    "        is_active: bool = Field(default=True)\n",
    "        \n",
    "        created_at: datetime = Field(default_factory=datetime.now)\n",
    "\n",
    "\n",
    "\n",
    "\n",
    "def demo_user_field():\n",
    "    print(\"Twitter Field Validation\")\n",
    "    \n",
    "    try:\n",
    "        TwitterUsername(\n",
    "            username=\"admin\", \n",
    "            free_account_post=\"Our new juice is amazing!\", \n",
    "            premium_account_post=\"A lengthy update for our fruit jice lovers with great details.\",\n",
    "        )\n",
    "    except ValueError as e:\n",
    "        print(e)\n",
    "\n",
    "\n",
    "demo_user_field()\n",
    "\n",
    "\n",
    "\n",
    "\n",
    "\n"
   ]
  }
 ],
 "metadata": {
  "kernelspec": {
   "display_name": "base",
   "language": "python",
   "name": "python3"
  },
  "language_info": {
   "codemirror_mode": {
    "name": "ipython",
    "version": 3
   },
   "file_extension": ".py",
   "mimetype": "text/x-python",
   "name": "python",
   "nbconvert_exporter": "python",
   "pygments_lexer": "ipython3",
   "version": "3.13.5"
  }
 },
 "nbformat": 4,
 "nbformat_minor": 5
}
