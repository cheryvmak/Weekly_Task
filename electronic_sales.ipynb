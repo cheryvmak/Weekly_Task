{
 "cells": [
  {
   "cell_type": "code",
   "execution_count": 37,
   "id": "8774f5b1",
   "metadata": {},
   "outputs": [],
   "source": [
    "import pandas as pd\n",
    "import matplotlib.pyplot as plt\n",
    "import seaborn as sns"
   ]
  },
  {
   "cell_type": "code",
   "execution_count": 2,
   "id": "bce75477",
   "metadata": {},
   "outputs": [
    {
     "name": "stdout",
     "output_type": "stream",
     "text": [
      "Collecting openpyxl\n",
      "  Using cached openpyxl-3.1.5-py2.py3-none-any.whl.metadata (2.5 kB)\n",
      "Collecting et-xmlfile (from openpyxl)\n",
      "  Using cached et_xmlfile-2.0.0-py3-none-any.whl.metadata (2.7 kB)\n",
      "Using cached openpyxl-3.1.5-py2.py3-none-any.whl (250 kB)\n",
      "Using cached et_xmlfile-2.0.0-py3-none-any.whl (18 kB)\n",
      "Installing collected packages: et-xmlfile, openpyxl\n",
      "\n",
      "   ---------------------------------------- 0/2 [et-xmlfile]\n",
      "   -------------------- ------------------- 1/2 [openpyxl]\n",
      "   -------------------- ------------------- 1/2 [openpyxl]\n",
      "   -------------------- ------------------- 1/2 [openpyxl]\n",
      "   -------------------- ------------------- 1/2 [openpyxl]\n",
      "   -------------------- ------------------- 1/2 [openpyxl]\n",
      "   -------------------- ------------------- 1/2 [openpyxl]\n",
      "   -------------------- ------------------- 1/2 [openpyxl]\n",
      "   -------------------- ------------------- 1/2 [openpyxl]\n",
      "   -------------------- ------------------- 1/2 [openpyxl]\n",
      "   -------------------- ------------------- 1/2 [openpyxl]\n",
      "   -------------------- ------------------- 1/2 [openpyxl]\n",
      "   -------------------- ------------------- 1/2 [openpyxl]\n",
      "   -------------------- ------------------- 1/2 [openpyxl]\n",
      "   -------------------- ------------------- 1/2 [openpyxl]\n",
      "   -------------------- ------------------- 1/2 [openpyxl]\n",
      "   -------------------- ------------------- 1/2 [openpyxl]\n",
      "   -------------------- ------------------- 1/2 [openpyxl]\n",
      "   -------------------- ------------------- 1/2 [openpyxl]\n",
      "   -------------------- ------------------- 1/2 [openpyxl]\n",
      "   -------------------- ------------------- 1/2 [openpyxl]\n",
      "   -------------------- ------------------- 1/2 [openpyxl]\n",
      "   -------------------- ------------------- 1/2 [openpyxl]\n",
      "   -------------------- ------------------- 1/2 [openpyxl]\n",
      "   -------------------- ------------------- 1/2 [openpyxl]\n",
      "   ---------------------------------------- 2/2 [openpyxl]\n",
      "\n",
      "Successfully installed et-xmlfile-2.0.0 openpyxl-3.1.5\n",
      "Note: you may need to restart the kernel to use updated packages.\n"
     ]
    }
   ],
   "source": [
    "# %pip install openpyxl (To make the vscode to show)"
   ]
  },
  {
   "cell_type": "code",
   "execution_count": 56,
   "id": "dfe8d3cc",
   "metadata": {},
   "outputs": [
    {
     "data": {
      "text/html": [
       "<div>\n",
       "<style scoped>\n",
       "    .dataframe tbody tr th:only-of-type {\n",
       "        vertical-align: middle;\n",
       "    }\n",
       "\n",
       "    .dataframe tbody tr th {\n",
       "        vertical-align: top;\n",
       "    }\n",
       "\n",
       "    .dataframe thead th {\n",
       "        text-align: right;\n",
       "    }\n",
       "</style>\n",
       "<table border=\"1\" class=\"dataframe\">\n",
       "  <thead>\n",
       "    <tr style=\"text-align: right;\">\n",
       "      <th></th>\n",
       "      <th>Date</th>\n",
       "      <th>Branch</th>\n",
       "      <th>Sales Agent</th>\n",
       "      <th>Products</th>\n",
       "      <th>Units</th>\n",
       "      <th>Price</th>\n",
       "    </tr>\n",
       "  </thead>\n",
       "  <tbody>\n",
       "    <tr>\n",
       "      <th>0</th>\n",
       "      <td>2014-09-01</td>\n",
       "      <td>Woji</td>\n",
       "      <td>Chinedu</td>\n",
       "      <td>Apple</td>\n",
       "      <td>2</td>\n",
       "      <td>125.00</td>\n",
       "    </tr>\n",
       "    <tr>\n",
       "      <th>1</th>\n",
       "      <td>2015-06-17</td>\n",
       "      <td>Woji</td>\n",
       "      <td>Emeka</td>\n",
       "      <td>Apple</td>\n",
       "      <td>5</td>\n",
       "      <td>125.00</td>\n",
       "    </tr>\n",
       "    <tr>\n",
       "      <th>2</th>\n",
       "      <td>2015-09-10</td>\n",
       "      <td>Woji</td>\n",
       "      <td>Ibrahim</td>\n",
       "      <td>Lenovo</td>\n",
       "      <td>7</td>\n",
       "      <td>1.29</td>\n",
       "    </tr>\n",
       "    <tr>\n",
       "      <th>3</th>\n",
       "      <td>2015-11-17</td>\n",
       "      <td>Woji</td>\n",
       "      <td>Tolu</td>\n",
       "      <td>HP</td>\n",
       "      <td>11</td>\n",
       "      <td>4.99</td>\n",
       "    </tr>\n",
       "    <tr>\n",
       "      <th>4</th>\n",
       "      <td>2015-10-31</td>\n",
       "      <td>Woji</td>\n",
       "      <td>Tonye</td>\n",
       "      <td>Lenovo</td>\n",
       "      <td>14</td>\n",
       "      <td>1.29</td>\n",
       "    </tr>\n",
       "    <tr>\n",
       "      <th>5</th>\n",
       "      <td>2014-02-26</td>\n",
       "      <td>Woji</td>\n",
       "      <td>Ibrahim</td>\n",
       "      <td>Compaq</td>\n",
       "      <td>27</td>\n",
       "      <td>19.99</td>\n",
       "    </tr>\n",
       "    <tr>\n",
       "      <th>6</th>\n",
       "      <td>2014-10-05</td>\n",
       "      <td>Woji</td>\n",
       "      <td>George</td>\n",
       "      <td>HP</td>\n",
       "      <td>28</td>\n",
       "      <td>8.99</td>\n",
       "    </tr>\n",
       "    <tr>\n",
       "      <th>7</th>\n",
       "      <td>2015-12-21</td>\n",
       "      <td>Woji</td>\n",
       "      <td>Tonye</td>\n",
       "      <td>HP</td>\n",
       "      <td>28</td>\n",
       "      <td>4.99</td>\n",
       "    </tr>\n",
       "    <tr>\n",
       "      <th>8</th>\n",
       "      <td>2014-02-09</td>\n",
       "      <td>Woji</td>\n",
       "      <td>Tolu</td>\n",
       "      <td>Lenovo</td>\n",
       "      <td>36</td>\n",
       "      <td>4.99</td>\n",
       "    </tr>\n",
       "    <tr>\n",
       "      <th>9</th>\n",
       "      <td>2015-08-07</td>\n",
       "      <td>Woji</td>\n",
       "      <td>Emeka</td>\n",
       "      <td>Dell</td>\n",
       "      <td>42</td>\n",
       "      <td>23.95</td>\n",
       "    </tr>\n",
       "    <tr>\n",
       "      <th>10</th>\n",
       "      <td>2015-01-15</td>\n",
       "      <td>Woji</td>\n",
       "      <td>Ibrahim</td>\n",
       "      <td>HP</td>\n",
       "      <td>46</td>\n",
       "      <td>8.99</td>\n",
       "    </tr>\n",
       "    <tr>\n",
       "      <th>11</th>\n",
       "      <td>2014-01-23</td>\n",
       "      <td>Woji</td>\n",
       "      <td>Emeka</td>\n",
       "      <td>HP</td>\n",
       "      <td>50</td>\n",
       "      <td>19.99</td>\n",
       "    </tr>\n",
       "    <tr>\n",
       "      <th>12</th>\n",
       "      <td>2015-03-24</td>\n",
       "      <td>Woji</td>\n",
       "      <td>Tolu</td>\n",
       "      <td>Dell</td>\n",
       "      <td>50</td>\n",
       "      <td>4.99</td>\n",
       "    </tr>\n",
       "    <tr>\n",
       "      <th>13</th>\n",
       "      <td>2015-05-14</td>\n",
       "      <td>Woji</td>\n",
       "      <td>Ibrahim</td>\n",
       "      <td>Lenovo</td>\n",
       "      <td>53</td>\n",
       "      <td>1.29</td>\n",
       "    </tr>\n",
       "    <tr>\n",
       "      <th>14</th>\n",
       "      <td>2015-07-21</td>\n",
       "      <td>Woji</td>\n",
       "      <td>George</td>\n",
       "      <td>Dell</td>\n",
       "      <td>55</td>\n",
       "      <td>12.49</td>\n",
       "    </tr>\n",
       "    <tr>\n",
       "      <th>15</th>\n",
       "      <td>2015-04-10</td>\n",
       "      <td>Woji</td>\n",
       "      <td>Tonye</td>\n",
       "      <td>Lenovo</td>\n",
       "      <td>66</td>\n",
       "      <td>1.99</td>\n",
       "    </tr>\n",
       "    <tr>\n",
       "      <th>16</th>\n",
       "      <td>2014-12-12</td>\n",
       "      <td>Woji</td>\n",
       "      <td>Chinedu</td>\n",
       "      <td>Lenovo</td>\n",
       "      <td>67</td>\n",
       "      <td>1.29</td>\n",
       "    </tr>\n",
       "    <tr>\n",
       "      <th>17</th>\n",
       "      <td>2014-04-18</td>\n",
       "      <td>Woji</td>\n",
       "      <td>Tonye</td>\n",
       "      <td>Lenovo</td>\n",
       "      <td>75</td>\n",
       "      <td>1.99</td>\n",
       "    </tr>\n",
       "    <tr>\n",
       "      <th>18</th>\n",
       "      <td>2015-05-31</td>\n",
       "      <td>Woji</td>\n",
       "      <td>Ibrahim</td>\n",
       "      <td>HP</td>\n",
       "      <td>80</td>\n",
       "      <td>8.99</td>\n",
       "    </tr>\n",
       "    <tr>\n",
       "      <th>19</th>\n",
       "      <td>2015-02-01</td>\n",
       "      <td>Woji</td>\n",
       "      <td>Chinedu</td>\n",
       "      <td>HP</td>\n",
       "      <td>87</td>\n",
       "      <td>15.00</td>\n",
       "    </tr>\n",
       "    <tr>\n",
       "      <th>20</th>\n",
       "      <td>2014-05-05</td>\n",
       "      <td>Woji</td>\n",
       "      <td>Tolu</td>\n",
       "      <td>Lenovo</td>\n",
       "      <td>90</td>\n",
       "      <td>4.99</td>\n",
       "    </tr>\n",
       "    <tr>\n",
       "      <th>21</th>\n",
       "      <td>2014-06-25</td>\n",
       "      <td>Woji</td>\n",
       "      <td>George</td>\n",
       "      <td>Lenovo</td>\n",
       "      <td>90</td>\n",
       "      <td>4.99</td>\n",
       "    </tr>\n",
       "    <tr>\n",
       "      <th>22</th>\n",
       "      <td>2015-12-04</td>\n",
       "      <td>Woji</td>\n",
       "      <td>Tolu</td>\n",
       "      <td>HP</td>\n",
       "      <td>94</td>\n",
       "      <td>19.99</td>\n",
       "    </tr>\n",
       "    <tr>\n",
       "      <th>23</th>\n",
       "      <td>2014-11-25</td>\n",
       "      <td>Woji</td>\n",
       "      <td>Emeka</td>\n",
       "      <td>Dell</td>\n",
       "      <td>96</td>\n",
       "      <td>4.99</td>\n",
       "    </tr>\n",
       "    <tr>\n",
       "      <th>24</th>\n",
       "      <td>2015-02-18</td>\n",
       "      <td>GRA</td>\n",
       "      <td>Blessing</td>\n",
       "      <td>HP</td>\n",
       "      <td>4</td>\n",
       "      <td>4.99</td>\n",
       "    </tr>\n",
       "    <tr>\n",
       "      <th>25</th>\n",
       "      <td>2014-11-08</td>\n",
       "      <td>GRA</td>\n",
       "      <td>Chioma</td>\n",
       "      <td>Compaq</td>\n",
       "      <td>15</td>\n",
       "      <td>19.99</td>\n",
       "    </tr>\n",
       "    <tr>\n",
       "      <th>26</th>\n",
       "      <td>2014-09-18</td>\n",
       "      <td>GRA</td>\n",
       "      <td>Blessing</td>\n",
       "      <td>Dell</td>\n",
       "      <td>16</td>\n",
       "      <td>15.99</td>\n",
       "    </tr>\n",
       "    <tr>\n",
       "      <th>27</th>\n",
       "      <td>2014-07-12</td>\n",
       "      <td>GRA</td>\n",
       "      <td>Torbari</td>\n",
       "      <td>HP</td>\n",
       "      <td>29</td>\n",
       "      <td>1.99</td>\n",
       "    </tr>\n",
       "    <tr>\n",
       "      <th>28</th>\n",
       "      <td>2014-08-15</td>\n",
       "      <td>GRA</td>\n",
       "      <td>Blessing</td>\n",
       "      <td>Lenovo</td>\n",
       "      <td>35</td>\n",
       "      <td>4.99</td>\n",
       "    </tr>\n",
       "    <tr>\n",
       "      <th>29</th>\n",
       "      <td>2014-04-01</td>\n",
       "      <td>GRA</td>\n",
       "      <td>Blessing</td>\n",
       "      <td>HP</td>\n",
       "      <td>60</td>\n",
       "      <td>4.99</td>\n",
       "    </tr>\n",
       "    <tr>\n",
       "      <th>30</th>\n",
       "      <td>2014-06-08</td>\n",
       "      <td>GRA</td>\n",
       "      <td>Blessing</td>\n",
       "      <td>HP</td>\n",
       "      <td>60</td>\n",
       "      <td>8.99</td>\n",
       "    </tr>\n",
       "    <tr>\n",
       "      <th>31</th>\n",
       "      <td>2015-07-04</td>\n",
       "      <td>GRA</td>\n",
       "      <td>Blessing</td>\n",
       "      <td>Dell</td>\n",
       "      <td>62</td>\n",
       "      <td>4.99</td>\n",
       "    </tr>\n",
       "    <tr>\n",
       "      <th>32</th>\n",
       "      <td>2014-10-22</td>\n",
       "      <td>GRA</td>\n",
       "      <td>Blessing</td>\n",
       "      <td>Compaq</td>\n",
       "      <td>64</td>\n",
       "      <td>8.99</td>\n",
       "    </tr>\n",
       "    <tr>\n",
       "      <th>33</th>\n",
       "      <td>2014-12-29</td>\n",
       "      <td>GRA</td>\n",
       "      <td>Chioma</td>\n",
       "      <td>Dell</td>\n",
       "      <td>74</td>\n",
       "      <td>15.99</td>\n",
       "    </tr>\n",
       "    <tr>\n",
       "      <th>34</th>\n",
       "      <td>2014-07-29</td>\n",
       "      <td>GRA</td>\n",
       "      <td>Chioma</td>\n",
       "      <td>HP</td>\n",
       "      <td>81</td>\n",
       "      <td>19.99</td>\n",
       "    </tr>\n",
       "    <tr>\n",
       "      <th>35</th>\n",
       "      <td>2014-01-06</td>\n",
       "      <td>GRA</td>\n",
       "      <td>Blessing</td>\n",
       "      <td>Lenovo</td>\n",
       "      <td>95</td>\n",
       "      <td>1.99</td>\n",
       "    </tr>\n",
       "    <tr>\n",
       "      <th>36</th>\n",
       "      <td>2015-04-27</td>\n",
       "      <td>GRA</td>\n",
       "      <td>Torbari</td>\n",
       "      <td>Compaq</td>\n",
       "      <td>96</td>\n",
       "      <td>4.99</td>\n",
       "    </tr>\n",
       "    <tr>\n",
       "      <th>37</th>\n",
       "      <td>2015-08-24</td>\n",
       "      <td>Town</td>\n",
       "      <td>Uche</td>\n",
       "      <td>Apple</td>\n",
       "      <td>3</td>\n",
       "      <td>275.00</td>\n",
       "    </tr>\n",
       "    <tr>\n",
       "      <th>38</th>\n",
       "      <td>2015-03-07</td>\n",
       "      <td>Town</td>\n",
       "      <td>Uche</td>\n",
       "      <td>HP</td>\n",
       "      <td>7</td>\n",
       "      <td>19.99</td>\n",
       "    </tr>\n",
       "    <tr>\n",
       "      <th>39</th>\n",
       "      <td>2014-05-22</td>\n",
       "      <td>Town</td>\n",
       "      <td>Tunde</td>\n",
       "      <td>Lenovo</td>\n",
       "      <td>32</td>\n",
       "      <td>1.99</td>\n",
       "    </tr>\n",
       "    <tr>\n",
       "      <th>40</th>\n",
       "      <td>2014-03-15</td>\n",
       "      <td>Town</td>\n",
       "      <td>Uche</td>\n",
       "      <td>Lenovo</td>\n",
       "      <td>56</td>\n",
       "      <td>2.99</td>\n",
       "    </tr>\n",
       "    <tr>\n",
       "      <th>41</th>\n",
       "      <td>2015-10-14</td>\n",
       "      <td>Town</td>\n",
       "      <td>Tunde</td>\n",
       "      <td>HP</td>\n",
       "      <td>57</td>\n",
       "      <td>19.99</td>\n",
       "    </tr>\n",
       "    <tr>\n",
       "      <th>42</th>\n",
       "      <td>2015-09-27</td>\n",
       "      <td>Town</td>\n",
       "      <td>Uche</td>\n",
       "      <td>Compaq</td>\n",
       "      <td>76</td>\n",
       "      <td>1.99</td>\n",
       "    </tr>\n",
       "  </tbody>\n",
       "</table>\n",
       "</div>"
      ],
      "text/plain": [
       "         Date Branch Sales Agent Products  Units   Price\n",
       "0  2014-09-01   Woji     Chinedu    Apple      2  125.00\n",
       "1  2015-06-17   Woji       Emeka    Apple      5  125.00\n",
       "2  2015-09-10   Woji     Ibrahim   Lenovo      7    1.29\n",
       "3  2015-11-17   Woji        Tolu       HP     11    4.99\n",
       "4  2015-10-31   Woji       Tonye   Lenovo     14    1.29\n",
       "5  2014-02-26   Woji     Ibrahim   Compaq     27   19.99\n",
       "6  2014-10-05   Woji      George       HP     28    8.99\n",
       "7  2015-12-21   Woji       Tonye       HP     28    4.99\n",
       "8  2014-02-09   Woji        Tolu   Lenovo     36    4.99\n",
       "9  2015-08-07   Woji       Emeka     Dell     42   23.95\n",
       "10 2015-01-15   Woji     Ibrahim       HP     46    8.99\n",
       "11 2014-01-23   Woji       Emeka       HP     50   19.99\n",
       "12 2015-03-24   Woji        Tolu     Dell     50    4.99\n",
       "13 2015-05-14   Woji     Ibrahim   Lenovo     53    1.29\n",
       "14 2015-07-21   Woji      George     Dell     55   12.49\n",
       "15 2015-04-10   Woji       Tonye   Lenovo     66    1.99\n",
       "16 2014-12-12   Woji     Chinedu   Lenovo     67    1.29\n",
       "17 2014-04-18   Woji       Tonye   Lenovo     75    1.99\n",
       "18 2015-05-31   Woji     Ibrahim       HP     80    8.99\n",
       "19 2015-02-01   Woji     Chinedu       HP     87   15.00\n",
       "20 2014-05-05   Woji        Tolu   Lenovo     90    4.99\n",
       "21 2014-06-25   Woji      George   Lenovo     90    4.99\n",
       "22 2015-12-04   Woji        Tolu       HP     94   19.99\n",
       "23 2014-11-25   Woji       Emeka     Dell     96    4.99\n",
       "24 2015-02-18    GRA    Blessing       HP      4    4.99\n",
       "25 2014-11-08    GRA      Chioma   Compaq     15   19.99\n",
       "26 2014-09-18    GRA    Blessing     Dell     16   15.99\n",
       "27 2014-07-12    GRA     Torbari       HP     29    1.99\n",
       "28 2014-08-15    GRA    Blessing   Lenovo     35    4.99\n",
       "29 2014-04-01    GRA    Blessing       HP     60    4.99\n",
       "30 2014-06-08    GRA    Blessing       HP     60    8.99\n",
       "31 2015-07-04    GRA    Blessing     Dell     62    4.99\n",
       "32 2014-10-22    GRA    Blessing   Compaq     64    8.99\n",
       "33 2014-12-29    GRA      Chioma     Dell     74   15.99\n",
       "34 2014-07-29    GRA      Chioma       HP     81   19.99\n",
       "35 2014-01-06    GRA    Blessing   Lenovo     95    1.99\n",
       "36 2015-04-27    GRA     Torbari   Compaq     96    4.99\n",
       "37 2015-08-24   Town        Uche    Apple      3  275.00\n",
       "38 2015-03-07   Town        Uche       HP      7   19.99\n",
       "39 2014-05-22   Town       Tunde   Lenovo     32    1.99\n",
       "40 2014-03-15   Town        Uche   Lenovo     56    2.99\n",
       "41 2015-10-14   Town       Tunde       HP     57   19.99\n",
       "42 2015-09-27   Town        Uche   Compaq     76    1.99"
      ]
     },
     "execution_count": 56,
     "metadata": {},
     "output_type": "execute_result"
    }
   ],
   "source": [
    "df = pd.read_excel('eletronic_sales.xlsx')\n",
    "df"
   ]
  },
  {
   "cell_type": "markdown",
   "id": "510dcd43",
   "metadata": {},
   "source": [
    "Preliminary Descriptive Analysis"
   ]
  },
  {
   "cell_type": "code",
   "execution_count": 57,
   "id": "8755b77c",
   "metadata": {},
   "outputs": [
    {
     "name": "stdout",
     "output_type": "stream",
     "text": [
      "Top 5 information of the dataset:         Date Branch Sales Agent Products  Units   Price\n",
      "0 2014-09-01   Woji     Chinedu    Apple      2  125.00\n",
      "1 2015-06-17   Woji       Emeka    Apple      5  125.00\n",
      "2 2015-09-10   Woji     Ibrahim   Lenovo      7    1.29\n",
      "3 2015-11-17   Woji        Tolu       HP     11    4.99\n",
      "4 2015-10-31   Woji       Tonye   Lenovo     14    1.29\n",
      "\n",
      "\n",
      "Bottom 5 information of the dataset:          Date Branch Sales Agent Products  Units  Price\n",
      "38 2015-03-07   Town        Uche       HP      7  19.99\n",
      "39 2014-05-22   Town       Tunde   Lenovo     32   1.99\n",
      "40 2014-03-15   Town        Uche   Lenovo     56   2.99\n",
      "41 2015-10-14   Town       Tunde       HP     57  19.99\n",
      "42 2015-09-27   Town        Uche   Compaq     76   1.99\n",
      "\n",
      "\n",
      "<class 'pandas.core.frame.DataFrame'>\n",
      "RangeIndex: 43 entries, 0 to 42\n",
      "Data columns (total 6 columns):\n",
      " #   Column       Non-Null Count  Dtype         \n",
      "---  ------       --------------  -----         \n",
      " 0   Date         43 non-null     datetime64[ns]\n",
      " 1   Branch       43 non-null     object        \n",
      " 2   Sales Agent  43 non-null     object        \n",
      " 3   Products     43 non-null     object        \n",
      " 4   Units        43 non-null     int64         \n",
      " 5   Price        43 non-null     float64       \n",
      "dtypes: datetime64[ns](1), float64(1), int64(1), object(3)\n",
      "memory usage: 2.1+ KB\n",
      "More info of the dataset: None\n",
      "\n",
      "\n",
      "This is the shape of the dataset: (43, 6)\n",
      "\n",
      "\n",
      "Descriptive statistics of the dataset:                       Date      Units       Price\n",
      "count                   43  43.000000   43.000000\n",
      "mean   2014-12-29 00:00:00  49.325581   20.308605\n",
      "min    2014-01-06 00:00:00   2.000000    1.290000\n",
      "25%    2014-07-03 12:00:00  27.500000    3.990000\n",
      "50%    2014-12-29 00:00:00  53.000000    4.990000\n",
      "75%    2015-06-25 12:00:00  74.500000   17.990000\n",
      "max    2015-12-21 00:00:00  96.000000  275.000000\n",
      "std                    NaN  30.078248   47.345118\n"
     ]
    }
   ],
   "source": [
    "print(\"Top 5 information of the dataset:\", df.head())\n",
    "print('\\n')\n",
    "print(\"Bottom 5 information of the dataset:\", df.tail())\n",
    "print('\\n')\n",
    "print(f\"More info of the dataset: {df.info()}\")\n",
    "print('\\n')\n",
    "print(f\"This is the shape of the dataset: {df.shape}\")\n",
    "print('\\n')\n",
    "print(\"Descriptive statistics of the dataset:\", df.describe())\n",
    "\n"
   ]
  },
  {
   "cell_type": "code",
   "execution_count": 58,
   "id": "d37f18a0",
   "metadata": {},
   "outputs": [
    {
     "name": "stdout",
     "output_type": "stream",
     "text": [
      "This are all the features of the dataset:\n",
      " Index(['Date', 'Branch', 'Sales Agent', 'Products', 'Units', 'Price'], dtype='object')\n"
     ]
    }
   ],
   "source": [
    "print(f\"This are all the features of the dataset:\\n {df.columns}\")\n"
   ]
  },
  {
   "cell_type": "code",
   "execution_count": 60,
   "id": "ca6cc922",
   "metadata": {},
   "outputs": [
    {
     "data": {
      "text/plain": [
       "Date           0\n",
       "Branch         0\n",
       "Sales Agent    0\n",
       "Products       0\n",
       "Units          0\n",
       "Price          0\n",
       "dtype: int64"
      ]
     },
     "execution_count": 60,
     "metadata": {},
     "output_type": "execute_result"
    }
   ],
   "source": [
    "# To check total number of missing data in each column\n",
    "df.isna().sum()"
   ]
  },
  {
   "cell_type": "code",
   "execution_count": 62,
   "id": "ccd9a9b4",
   "metadata": {},
   "outputs": [
    {
     "data": {
      "text/plain": [
       "0"
      ]
     },
     "execution_count": 62,
     "metadata": {},
     "output_type": "execute_result"
    }
   ],
   "source": [
    "# To check if there is duplicate in the dataset\n",
    "df.duplicated().sum()\n",
    "int(df.duplicated().sum())\n",
    "\n"
   ]
  },
  {
   "cell_type": "markdown",
   "id": "91eb6579",
   "metadata": {},
   "source": [
    "Feature of Engineering"
   ]
  },
  {
   "cell_type": "code",
   "execution_count": 63,
   "id": "1efdc2d3",
   "metadata": {},
   "outputs": [
    {
     "data": {
      "text/html": [
       "<div>\n",
       "<style scoped>\n",
       "    .dataframe tbody tr th:only-of-type {\n",
       "        vertical-align: middle;\n",
       "    }\n",
       "\n",
       "    .dataframe tbody tr th {\n",
       "        vertical-align: top;\n",
       "    }\n",
       "\n",
       "    .dataframe thead th {\n",
       "        text-align: right;\n",
       "    }\n",
       "</style>\n",
       "<table border=\"1\" class=\"dataframe\">\n",
       "  <thead>\n",
       "    <tr style=\"text-align: right;\">\n",
       "      <th></th>\n",
       "      <th>Units</th>\n",
       "      <th>Price</th>\n",
       "    </tr>\n",
       "  </thead>\n",
       "  <tbody>\n",
       "    <tr>\n",
       "      <th>0</th>\n",
       "      <td>2</td>\n",
       "      <td>125.00</td>\n",
       "    </tr>\n",
       "    <tr>\n",
       "      <th>1</th>\n",
       "      <td>5</td>\n",
       "      <td>125.00</td>\n",
       "    </tr>\n",
       "    <tr>\n",
       "      <th>2</th>\n",
       "      <td>7</td>\n",
       "      <td>1.29</td>\n",
       "    </tr>\n",
       "    <tr>\n",
       "      <th>3</th>\n",
       "      <td>11</td>\n",
       "      <td>4.99</td>\n",
       "    </tr>\n",
       "    <tr>\n",
       "      <th>4</th>\n",
       "      <td>14</td>\n",
       "      <td>1.29</td>\n",
       "    </tr>\n",
       "    <tr>\n",
       "      <th>5</th>\n",
       "      <td>27</td>\n",
       "      <td>19.99</td>\n",
       "    </tr>\n",
       "    <tr>\n",
       "      <th>6</th>\n",
       "      <td>28</td>\n",
       "      <td>8.99</td>\n",
       "    </tr>\n",
       "    <tr>\n",
       "      <th>7</th>\n",
       "      <td>28</td>\n",
       "      <td>4.99</td>\n",
       "    </tr>\n",
       "    <tr>\n",
       "      <th>8</th>\n",
       "      <td>36</td>\n",
       "      <td>4.99</td>\n",
       "    </tr>\n",
       "    <tr>\n",
       "      <th>9</th>\n",
       "      <td>42</td>\n",
       "      <td>23.95</td>\n",
       "    </tr>\n",
       "    <tr>\n",
       "      <th>10</th>\n",
       "      <td>46</td>\n",
       "      <td>8.99</td>\n",
       "    </tr>\n",
       "    <tr>\n",
       "      <th>11</th>\n",
       "      <td>50</td>\n",
       "      <td>19.99</td>\n",
       "    </tr>\n",
       "    <tr>\n",
       "      <th>12</th>\n",
       "      <td>50</td>\n",
       "      <td>4.99</td>\n",
       "    </tr>\n",
       "    <tr>\n",
       "      <th>13</th>\n",
       "      <td>53</td>\n",
       "      <td>1.29</td>\n",
       "    </tr>\n",
       "    <tr>\n",
       "      <th>14</th>\n",
       "      <td>55</td>\n",
       "      <td>12.49</td>\n",
       "    </tr>\n",
       "    <tr>\n",
       "      <th>15</th>\n",
       "      <td>66</td>\n",
       "      <td>1.99</td>\n",
       "    </tr>\n",
       "    <tr>\n",
       "      <th>16</th>\n",
       "      <td>67</td>\n",
       "      <td>1.29</td>\n",
       "    </tr>\n",
       "    <tr>\n",
       "      <th>17</th>\n",
       "      <td>75</td>\n",
       "      <td>1.99</td>\n",
       "    </tr>\n",
       "    <tr>\n",
       "      <th>18</th>\n",
       "      <td>80</td>\n",
       "      <td>8.99</td>\n",
       "    </tr>\n",
       "    <tr>\n",
       "      <th>19</th>\n",
       "      <td>87</td>\n",
       "      <td>15.00</td>\n",
       "    </tr>\n",
       "    <tr>\n",
       "      <th>20</th>\n",
       "      <td>90</td>\n",
       "      <td>4.99</td>\n",
       "    </tr>\n",
       "    <tr>\n",
       "      <th>21</th>\n",
       "      <td>90</td>\n",
       "      <td>4.99</td>\n",
       "    </tr>\n",
       "    <tr>\n",
       "      <th>22</th>\n",
       "      <td>94</td>\n",
       "      <td>19.99</td>\n",
       "    </tr>\n",
       "    <tr>\n",
       "      <th>23</th>\n",
       "      <td>96</td>\n",
       "      <td>4.99</td>\n",
       "    </tr>\n",
       "    <tr>\n",
       "      <th>24</th>\n",
       "      <td>4</td>\n",
       "      <td>4.99</td>\n",
       "    </tr>\n",
       "    <tr>\n",
       "      <th>25</th>\n",
       "      <td>15</td>\n",
       "      <td>19.99</td>\n",
       "    </tr>\n",
       "    <tr>\n",
       "      <th>26</th>\n",
       "      <td>16</td>\n",
       "      <td>15.99</td>\n",
       "    </tr>\n",
       "    <tr>\n",
       "      <th>27</th>\n",
       "      <td>29</td>\n",
       "      <td>1.99</td>\n",
       "    </tr>\n",
       "    <tr>\n",
       "      <th>28</th>\n",
       "      <td>35</td>\n",
       "      <td>4.99</td>\n",
       "    </tr>\n",
       "    <tr>\n",
       "      <th>29</th>\n",
       "      <td>60</td>\n",
       "      <td>4.99</td>\n",
       "    </tr>\n",
       "    <tr>\n",
       "      <th>30</th>\n",
       "      <td>60</td>\n",
       "      <td>8.99</td>\n",
       "    </tr>\n",
       "    <tr>\n",
       "      <th>31</th>\n",
       "      <td>62</td>\n",
       "      <td>4.99</td>\n",
       "    </tr>\n",
       "    <tr>\n",
       "      <th>32</th>\n",
       "      <td>64</td>\n",
       "      <td>8.99</td>\n",
       "    </tr>\n",
       "    <tr>\n",
       "      <th>33</th>\n",
       "      <td>74</td>\n",
       "      <td>15.99</td>\n",
       "    </tr>\n",
       "    <tr>\n",
       "      <th>34</th>\n",
       "      <td>81</td>\n",
       "      <td>19.99</td>\n",
       "    </tr>\n",
       "    <tr>\n",
       "      <th>35</th>\n",
       "      <td>95</td>\n",
       "      <td>1.99</td>\n",
       "    </tr>\n",
       "    <tr>\n",
       "      <th>36</th>\n",
       "      <td>96</td>\n",
       "      <td>4.99</td>\n",
       "    </tr>\n",
       "    <tr>\n",
       "      <th>37</th>\n",
       "      <td>3</td>\n",
       "      <td>275.00</td>\n",
       "    </tr>\n",
       "    <tr>\n",
       "      <th>38</th>\n",
       "      <td>7</td>\n",
       "      <td>19.99</td>\n",
       "    </tr>\n",
       "    <tr>\n",
       "      <th>39</th>\n",
       "      <td>32</td>\n",
       "      <td>1.99</td>\n",
       "    </tr>\n",
       "    <tr>\n",
       "      <th>40</th>\n",
       "      <td>56</td>\n",
       "      <td>2.99</td>\n",
       "    </tr>\n",
       "    <tr>\n",
       "      <th>41</th>\n",
       "      <td>57</td>\n",
       "      <td>19.99</td>\n",
       "    </tr>\n",
       "    <tr>\n",
       "      <th>42</th>\n",
       "      <td>76</td>\n",
       "      <td>1.99</td>\n",
       "    </tr>\n",
       "  </tbody>\n",
       "</table>\n",
       "</div>"
      ],
      "text/plain": [
       "    Units   Price\n",
       "0       2  125.00\n",
       "1       5  125.00\n",
       "2       7    1.29\n",
       "3      11    4.99\n",
       "4      14    1.29\n",
       "5      27   19.99\n",
       "6      28    8.99\n",
       "7      28    4.99\n",
       "8      36    4.99\n",
       "9      42   23.95\n",
       "10     46    8.99\n",
       "11     50   19.99\n",
       "12     50    4.99\n",
       "13     53    1.29\n",
       "14     55   12.49\n",
       "15     66    1.99\n",
       "16     67    1.29\n",
       "17     75    1.99\n",
       "18     80    8.99\n",
       "19     87   15.00\n",
       "20     90    4.99\n",
       "21     90    4.99\n",
       "22     94   19.99\n",
       "23     96    4.99\n",
       "24      4    4.99\n",
       "25     15   19.99\n",
       "26     16   15.99\n",
       "27     29    1.99\n",
       "28     35    4.99\n",
       "29     60    4.99\n",
       "30     60    8.99\n",
       "31     62    4.99\n",
       "32     64    8.99\n",
       "33     74   15.99\n",
       "34     81   19.99\n",
       "35     95    1.99\n",
       "36     96    4.99\n",
       "37      3  275.00\n",
       "38      7   19.99\n",
       "39     32    1.99\n",
       "40     56    2.99\n",
       "41     57   19.99\n",
       "42     76    1.99"
      ]
     },
     "execution_count": 63,
     "metadata": {},
     "output_type": "execute_result"
    }
   ],
   "source": [
    "# To view unit and price features needed to calculate Revenue\n",
    "df[['Units', 'Price']]"
   ]
  },
  {
   "cell_type": "code",
   "execution_count": 64,
   "id": "5d7f11a8",
   "metadata": {},
   "outputs": [
    {
     "data": {
      "text/html": [
       "<div>\n",
       "<style scoped>\n",
       "    .dataframe tbody tr th:only-of-type {\n",
       "        vertical-align: middle;\n",
       "    }\n",
       "\n",
       "    .dataframe tbody tr th {\n",
       "        vertical-align: top;\n",
       "    }\n",
       "\n",
       "    .dataframe thead th {\n",
       "        text-align: right;\n",
       "    }\n",
       "</style>\n",
       "<table border=\"1\" class=\"dataframe\">\n",
       "  <thead>\n",
       "    <tr style=\"text-align: right;\">\n",
       "      <th></th>\n",
       "      <th>Date</th>\n",
       "      <th>Branch</th>\n",
       "      <th>Sales Agent</th>\n",
       "      <th>Products</th>\n",
       "      <th>Units</th>\n",
       "      <th>Price</th>\n",
       "      <th>Revenue(N)</th>\n",
       "    </tr>\n",
       "  </thead>\n",
       "  <tbody>\n",
       "    <tr>\n",
       "      <th>0</th>\n",
       "      <td>2014-09-01</td>\n",
       "      <td>Woji</td>\n",
       "      <td>Chinedu</td>\n",
       "      <td>Apple</td>\n",
       "      <td>2</td>\n",
       "      <td>125.0</td>\n",
       "      <td>250.0</td>\n",
       "    </tr>\n",
       "    <tr>\n",
       "      <th>1</th>\n",
       "      <td>2015-06-17</td>\n",
       "      <td>Woji</td>\n",
       "      <td>Emeka</td>\n",
       "      <td>Apple</td>\n",
       "      <td>5</td>\n",
       "      <td>125.0</td>\n",
       "      <td>625.0</td>\n",
       "    </tr>\n",
       "  </tbody>\n",
       "</table>\n",
       "</div>"
      ],
      "text/plain": [
       "        Date Branch Sales Agent Products  Units  Price  Revenue(N)\n",
       "0 2014-09-01   Woji     Chinedu    Apple      2  125.0       250.0\n",
       "1 2015-06-17   Woji       Emeka    Apple      5  125.0       625.0"
      ]
     },
     "execution_count": 64,
     "metadata": {},
     "output_type": "execute_result"
    }
   ],
   "source": [
    "# To get the total Sales we calculate:\n",
    "# Revenue = Units x Price\n",
    "\n",
    "df[\"Revenue(N)\"] = df[\"Units\"] * df[\"Price\"]\n",
    "df.head(2)"
   ]
  },
  {
   "cell_type": "code",
   "execution_count": 65,
   "id": "c42b79c4",
   "metadata": {},
   "outputs": [],
   "source": [
    "\n",
    "# using datetime to extract the month,year and week name\n",
    "# \".dt.year\",\".dt.month_name()\",\".day_name()\n",
    "\n",
    "df[\"Date\"] = pd.to_datetime(df[\"Date\"])\n",
    "\n",
    "df[\"Year\"] = df[\"Date\"].dt.year\n",
    "df[\"Month\"] = df[\"Date\"].dt.month_name()\n",
    "df[\"Week\"] = df[\"Date\"].dt.day_name()\n"
   ]
  },
  {
   "cell_type": "code",
   "execution_count": 66,
   "id": "303b87d0",
   "metadata": {},
   "outputs": [
    {
     "data": {
      "text/html": [
       "<div>\n",
       "<style scoped>\n",
       "    .dataframe tbody tr th:only-of-type {\n",
       "        vertical-align: middle;\n",
       "    }\n",
       "\n",
       "    .dataframe tbody tr th {\n",
       "        vertical-align: top;\n",
       "    }\n",
       "\n",
       "    .dataframe thead th {\n",
       "        text-align: right;\n",
       "    }\n",
       "</style>\n",
       "<table border=\"1\" class=\"dataframe\">\n",
       "  <thead>\n",
       "    <tr style=\"text-align: right;\">\n",
       "      <th></th>\n",
       "      <th>Date</th>\n",
       "      <th>Branch</th>\n",
       "      <th>Sales Agent</th>\n",
       "      <th>Products</th>\n",
       "      <th>Units</th>\n",
       "      <th>Price</th>\n",
       "      <th>Revenue(N)</th>\n",
       "      <th>Year</th>\n",
       "      <th>Month</th>\n",
       "      <th>Week</th>\n",
       "    </tr>\n",
       "  </thead>\n",
       "  <tbody>\n",
       "    <tr>\n",
       "      <th>0</th>\n",
       "      <td>2014-09-01</td>\n",
       "      <td>Woji</td>\n",
       "      <td>Chinedu</td>\n",
       "      <td>Apple</td>\n",
       "      <td>2</td>\n",
       "      <td>125.0</td>\n",
       "      <td>250.0</td>\n",
       "      <td>2014</td>\n",
       "      <td>September</td>\n",
       "      <td>Monday</td>\n",
       "    </tr>\n",
       "    <tr>\n",
       "      <th>1</th>\n",
       "      <td>2015-06-17</td>\n",
       "      <td>Woji</td>\n",
       "      <td>Emeka</td>\n",
       "      <td>Apple</td>\n",
       "      <td>5</td>\n",
       "      <td>125.0</td>\n",
       "      <td>625.0</td>\n",
       "      <td>2015</td>\n",
       "      <td>June</td>\n",
       "      <td>Wednesday</td>\n",
       "    </tr>\n",
       "  </tbody>\n",
       "</table>\n",
       "</div>"
      ],
      "text/plain": [
       "        Date Branch Sales Agent Products  Units  Price  Revenue(N)  Year  \\\n",
       "0 2014-09-01   Woji     Chinedu    Apple      2  125.0       250.0  2014   \n",
       "1 2015-06-17   Woji       Emeka    Apple      5  125.0       625.0  2015   \n",
       "\n",
       "       Month       Week  \n",
       "0  September     Monday  \n",
       "1       June  Wednesday  "
      ]
     },
     "execution_count": 66,
     "metadata": {},
     "output_type": "execute_result"
    }
   ],
   "source": [
    "df.head(2)"
   ]
  },
  {
   "cell_type": "code",
   "execution_count": 67,
   "id": "8a7da2db",
   "metadata": {},
   "outputs": [
    {
     "data": {
      "text/plain": [
       "Sales Agent\n",
       "Blessing     295.380000\n",
       "Chinedu      547.143333\n",
       "Chioma      1034.100000\n",
       "Emeka        777.360000\n",
       "George       462.590000\n",
       "Ibrahim      349.974000\n",
       "Tolu         562.438000\n",
       "Tonye        109.592500\n",
       "Torbari      268.375000\n",
       "Tunde        601.555000\n",
       "Uche         320.902500\n",
       "Name: Revenue(N), dtype: float64"
      ]
     },
     "execution_count": 67,
     "metadata": {},
     "output_type": "execute_result"
    }
   ],
   "source": [
    "# # Average Revenue per Agent: \n",
    " \n",
    "df.groupby('Sales Agent')['Revenue(N)'].mean()"
   ]
  },
  {
   "cell_type": "code",
   "execution_count": 68,
   "id": "bb5d1dc9",
   "metadata": {},
   "outputs": [
    {
     "data": {
      "text/plain": [
       "Branch\n",
       "GRA      6002.09\n",
       "Town     2486.72\n",
       "Woji    11139.07\n",
       "Name: Revenue(N), dtype: float64"
      ]
     },
     "execution_count": 68,
     "metadata": {},
     "output_type": "execute_result"
    }
   ],
   "source": [
    "# #Sales Revenue by Branch: \n",
    "df.groupby('Branch')['Revenue(N)'].sum()"
   ]
  },
  {
   "cell_type": "code",
   "execution_count": 69,
   "id": "6aa907b4",
   "metadata": {},
   "outputs": [
    {
     "data": {
      "text/plain": [
       "Products\n",
       "HP        722\n",
       "Lenovo    716\n",
       "Dell      395\n",
       "Compaq    278\n",
       "Apple      10\n",
       "Name: Units, dtype: int64"
      ]
     },
     "execution_count": 69,
     "metadata": {},
     "output_type": "execute_result"
    }
   ],
   "source": [
    "# # Top-Selling Products: \n",
    "df.groupby('Products')['Units'].sum().sort_values(ascending=False)"
   ]
  },
  {
   "cell_type": "code",
   "execution_count": 70,
   "id": "f81bca96",
   "metadata": {},
   "outputs": [
    {
     "name": "stderr",
     "output_type": "stream",
     "text": [
      "C:\\Users\\USER\\AppData\\Local\\Temp\\ipykernel_12040\\2347907414.py:2: FutureWarning: 'M' is deprecated and will be removed in a future version, please use 'ME' instead.\n",
      "  df.groupby(pd.Grouper(key='Date', freq='M'))['Revenue(N)'].sum()\n"
     ]
    },
    {
     "data": {
      "text/plain": [
       "Date\n",
       "2014-01-31    1188.55\n",
       "2014-02-28     719.37\n",
       "2014-03-31     167.44\n",
       "2014-04-30     448.65\n",
       "2014-05-31     512.78\n",
       "2014-06-30     988.50\n",
       "2014-07-31    1676.90\n",
       "2014-08-31     174.65\n",
       "2014-09-30     505.84\n",
       "2014-10-31     827.08\n",
       "2014-11-30     778.89\n",
       "2014-12-31    1269.69\n",
       "2015-01-31     413.54\n",
       "2015-02-28    1324.96\n",
       "2015-03-31     389.43\n",
       "2015-04-30     610.38\n",
       "2015-05-31     787.57\n",
       "2015-06-30     625.00\n",
       "2015-07-31     996.33\n",
       "2015-08-31    1830.90\n",
       "2015-09-30     160.27\n",
       "2015-10-31    1157.49\n",
       "2015-11-30      54.89\n",
       "2015-12-31    2018.78\n",
       "Freq: ME, Name: Revenue(N), dtype: float64"
      ]
     },
     "execution_count": 70,
     "metadata": {},
     "output_type": "execute_result"
    }
   ],
   "source": [
    "# # Monthly Sales Trend: \n",
    "df.groupby(pd.Grouper(key='Date', freq='M'))['Revenue(N)'].sum()"
   ]
  },
  {
   "cell_type": "markdown",
   "id": "1f3f62f3",
   "metadata": {},
   "source": [
    "### A. The KPI's (Key performance index) of data\n",
    "1. Total units sold\n",
    "2. Total Revenue\n",
    "3. Average Revenue per unit\n",
    "4. Numbers of products\n",
    "5. Numbers of Sales Agents"
   ]
  },
  {
   "cell_type": "markdown",
   "id": "c8e76047",
   "metadata": {},
   "source": [
    "### B. The insights from the data\n",
    "\n",
    "1. Total monthly revenue by Year\n",
    "2. Total revenue by branch\n",
    "3. Total revenue by products\n",
    "4. Total revenue by sales agent\n",
    "5. Total revenue by week\n",
    "6. Total revenue by month\n",
    "7. Trends of sales\n"
   ]
  },
  {
   "cell_type": "code",
   "execution_count": 71,
   "id": "aaa220bd",
   "metadata": {},
   "outputs": [
    {
     "name": "stdout",
     "output_type": "stream",
     "text": [
      "Total product sold: 2121 units\n"
     ]
    }
   ],
   "source": [
    "#1. Total units sold\n",
    "\n",
    "Total_product_sold = df[\"Units\"].sum()\n",
    "print(f\"Total product sold: {Total_product_sold} units\")"
   ]
  },
  {
   "cell_type": "code",
   "execution_count": 72,
   "id": "1ea4b03d",
   "metadata": {},
   "outputs": [
    {
     "name": "stdout",
     "output_type": "stream",
     "text": [
      "Total Revenue: N19627.879999999997\n"
     ]
    }
   ],
   "source": [
    "#2. Total Revenue\n",
    "Total_Revenue = df[\"Revenue(N)\"].sum()\n",
    "print(f\"Total Revenue: N{Total_Revenue}\")"
   ]
  },
  {
   "cell_type": "code",
   "execution_count": 73,
   "id": "81955847",
   "metadata": {},
   "outputs": [
    {
     "name": "stdout",
     "output_type": "stream",
     "text": [
      "Average Revenue per unit: N9.254068835454973\n"
     ]
    }
   ],
   "source": [
    "#3. Average Revenue per unit\n",
    "\n",
    "Average_revenue_per_unit = (Total_Revenue / Total_product_sold)\n",
    "print(f\"Average Revenue per unit: N{Average_revenue_per_unit}\")"
   ]
  },
  {
   "cell_type": "code",
   "execution_count": 74,
   "id": "bd090cfe",
   "metadata": {},
   "outputs": [
    {
     "name": "stdout",
     "output_type": "stream",
     "text": [
      "Numbers of products: 5\n"
     ]
    }
   ],
   "source": [
    "#4. Numbers of products\n",
    "## using the .nunique() shows the numbers of unique values\n",
    "Numbers_of_products = df[\"Products\"].nunique()\n",
    "print(f\"Numbers of products: {Numbers_of_products}\")"
   ]
  },
  {
   "cell_type": "code",
   "execution_count": 75,
   "id": "bc58c13f",
   "metadata": {},
   "outputs": [
    {
     "name": "stdout",
     "output_type": "stream",
     "text": [
      "Numbers of Sales Agents: 11\n"
     ]
    }
   ],
   "source": [
    "#5. Numbers of Sales Agents\n",
    "Numbers_of_sales_agents = df[\"Sales Agent\"].nunique()\n",
    "print(f\"Numbers of Sales Agents: {Numbers_of_sales_agents}\")"
   ]
  },
  {
   "cell_type": "code",
   "execution_count": 76,
   "id": "008612aa",
   "metadata": {},
   "outputs": [
    {
     "name": "stdout",
     "output_type": "stream",
     "text": [
      "Numbers of branch: 3\n"
     ]
    }
   ],
   "source": [
    "#6. Numbers of Branch\n",
    "Numbers_of_branch = df[\"Branch\"].nunique()\n",
    "print(f\"Numbers of branch: {Numbers_of_branch}\")"
   ]
  },
  {
   "cell_type": "code",
   "execution_count": 77,
   "id": "48a05587",
   "metadata": {},
   "outputs": [],
   "source": [
    "# Set index using the date column\n",
    "df.set_index(\"Date\", inplace=True)"
   ]
  },
  {
   "cell_type": "code",
   "execution_count": 78,
   "id": "55a5a6db",
   "metadata": {},
   "outputs": [
    {
     "data": {
      "text/plain": [
       "array([2014, 2015], dtype=int32)"
      ]
     },
     "execution_count": 78,
     "metadata": {},
     "output_type": "execute_result"
    }
   ],
   "source": [
    "# to check unique years in the data\n",
    "df.Year.unique()"
   ]
  },
  {
   "cell_type": "code",
   "execution_count": 79,
   "id": "f3147e5f",
   "metadata": {},
   "outputs": [
    {
     "data": {
      "text/html": [
       "<div>\n",
       "<style scoped>\n",
       "    .dataframe tbody tr th:only-of-type {\n",
       "        vertical-align: middle;\n",
       "    }\n",
       "\n",
       "    .dataframe tbody tr th {\n",
       "        vertical-align: top;\n",
       "    }\n",
       "\n",
       "    .dataframe thead th {\n",
       "        text-align: right;\n",
       "    }\n",
       "</style>\n",
       "<table border=\"1\" class=\"dataframe\">\n",
       "  <thead>\n",
       "    <tr style=\"text-align: right;\">\n",
       "      <th></th>\n",
       "      <th>Branch</th>\n",
       "      <th>Sales Agent</th>\n",
       "      <th>Products</th>\n",
       "      <th>Units</th>\n",
       "      <th>Price</th>\n",
       "      <th>Revenue(N)</th>\n",
       "      <th>Year</th>\n",
       "      <th>Month</th>\n",
       "      <th>Week</th>\n",
       "    </tr>\n",
       "    <tr>\n",
       "      <th>Date</th>\n",
       "      <th></th>\n",
       "      <th></th>\n",
       "      <th></th>\n",
       "      <th></th>\n",
       "      <th></th>\n",
       "      <th></th>\n",
       "      <th></th>\n",
       "      <th></th>\n",
       "      <th></th>\n",
       "    </tr>\n",
       "  </thead>\n",
       "  <tbody>\n",
       "    <tr>\n",
       "      <th>2014-09-01</th>\n",
       "      <td>Woji</td>\n",
       "      <td>Chinedu</td>\n",
       "      <td>Apple</td>\n",
       "      <td>2</td>\n",
       "      <td>125.00</td>\n",
       "      <td>250.00</td>\n",
       "      <td>2014</td>\n",
       "      <td>September</td>\n",
       "      <td>Monday</td>\n",
       "    </tr>\n",
       "    <tr>\n",
       "      <th>2014-02-26</th>\n",
       "      <td>Woji</td>\n",
       "      <td>Ibrahim</td>\n",
       "      <td>Compaq</td>\n",
       "      <td>27</td>\n",
       "      <td>19.99</td>\n",
       "      <td>539.73</td>\n",
       "      <td>2014</td>\n",
       "      <td>February</td>\n",
       "      <td>Wednesday</td>\n",
       "    </tr>\n",
       "  </tbody>\n",
       "</table>\n",
       "</div>"
      ],
      "text/plain": [
       "           Branch Sales Agent Products  Units   Price  Revenue(N)  Year  \\\n",
       "Date                                                                      \n",
       "2014-09-01   Woji     Chinedu    Apple      2  125.00      250.00  2014   \n",
       "2014-02-26   Woji     Ibrahim   Compaq     27   19.99      539.73  2014   \n",
       "\n",
       "                Month       Week  \n",
       "Date                              \n",
       "2014-09-01  September     Monday  \n",
       "2014-02-26   February  Wednesday  "
      ]
     },
     "execution_count": 79,
     "metadata": {},
     "output_type": "execute_result"
    }
   ],
   "source": [
    "df_2014 = df[df[\"Year\"] == 2014]\n",
    "df_2014.head(2)"
   ]
  },
  {
   "cell_type": "code",
   "execution_count": 80,
   "id": "bad4eba0",
   "metadata": {},
   "outputs": [
    {
     "data": {
      "text/plain": [
       "0     1676.90\n",
       "1     1269.69\n",
       "2     1188.55\n",
       "3      988.50\n",
       "4      827.08\n",
       "5      778.89\n",
       "6      719.37\n",
       "7      512.78\n",
       "8      505.84\n",
       "9      448.65\n",
       "10     174.65\n",
       "11     167.44\n",
       "Name: Revenue(N), dtype: float64"
      ]
     },
     "execution_count": 80,
     "metadata": {},
     "output_type": "execute_result"
    }
   ],
   "source": [
    "# view of monthly revenue for 2014\n",
    "Total_monthly_revenue = df_2014.groupby(\"Month\")[\"Revenue(N)\"].sum().sort_values(ascending = False).reset_index(drop=True)\n",
    "Total_monthly_revenue"
   ]
  },
  {
   "cell_type": "code",
   "execution_count": 81,
   "id": "3565dc7f",
   "metadata": {},
   "outputs": [
    {
     "data": {
      "text/html": [
       "<div>\n",
       "<style scoped>\n",
       "    .dataframe tbody tr th:only-of-type {\n",
       "        vertical-align: middle;\n",
       "    }\n",
       "\n",
       "    .dataframe tbody tr th {\n",
       "        vertical-align: top;\n",
       "    }\n",
       "\n",
       "    .dataframe thead th {\n",
       "        text-align: right;\n",
       "    }\n",
       "</style>\n",
       "<table border=\"1\" class=\"dataframe\">\n",
       "  <thead>\n",
       "    <tr style=\"text-align: right;\">\n",
       "      <th></th>\n",
       "      <th>Branch</th>\n",
       "      <th>Sales Agent</th>\n",
       "      <th>Products</th>\n",
       "      <th>Units</th>\n",
       "      <th>Price</th>\n",
       "      <th>Revenue(N)</th>\n",
       "      <th>Year</th>\n",
       "      <th>Month</th>\n",
       "      <th>Week</th>\n",
       "    </tr>\n",
       "    <tr>\n",
       "      <th>Date</th>\n",
       "      <th></th>\n",
       "      <th></th>\n",
       "      <th></th>\n",
       "      <th></th>\n",
       "      <th></th>\n",
       "      <th></th>\n",
       "      <th></th>\n",
       "      <th></th>\n",
       "      <th></th>\n",
       "    </tr>\n",
       "  </thead>\n",
       "  <tbody>\n",
       "    <tr>\n",
       "      <th>2015-06-17</th>\n",
       "      <td>Woji</td>\n",
       "      <td>Emeka</td>\n",
       "      <td>Apple</td>\n",
       "      <td>5</td>\n",
       "      <td>125.00</td>\n",
       "      <td>625.00</td>\n",
       "      <td>2015</td>\n",
       "      <td>June</td>\n",
       "      <td>Wednesday</td>\n",
       "    </tr>\n",
       "    <tr>\n",
       "      <th>2015-09-10</th>\n",
       "      <td>Woji</td>\n",
       "      <td>Ibrahim</td>\n",
       "      <td>Lenovo</td>\n",
       "      <td>7</td>\n",
       "      <td>1.29</td>\n",
       "      <td>9.03</td>\n",
       "      <td>2015</td>\n",
       "      <td>September</td>\n",
       "      <td>Thursday</td>\n",
       "    </tr>\n",
       "  </tbody>\n",
       "</table>\n",
       "</div>"
      ],
      "text/plain": [
       "           Branch Sales Agent Products  Units   Price  Revenue(N)  Year  \\\n",
       "Date                                                                      \n",
       "2015-06-17   Woji       Emeka    Apple      5  125.00      625.00  2015   \n",
       "2015-09-10   Woji     Ibrahim   Lenovo      7    1.29        9.03  2015   \n",
       "\n",
       "                Month       Week  \n",
       "Date                              \n",
       "2015-06-17       June  Wednesday  \n",
       "2015-09-10  September   Thursday  "
      ]
     },
     "execution_count": 81,
     "metadata": {},
     "output_type": "execute_result"
    }
   ],
   "source": [
    "df_2015 = df[df[\"Year\"] == 2015]\n",
    "df_2015.head(2)"
   ]
  },
  {
   "cell_type": "code",
   "execution_count": 82,
   "id": "b7c3385a",
   "metadata": {},
   "outputs": [
    {
     "data": {
      "text/plain": [
       "0     2018.78\n",
       "1     1830.90\n",
       "2     1324.96\n",
       "3     1157.49\n",
       "4      996.33\n",
       "5      787.57\n",
       "6      625.00\n",
       "7      610.38\n",
       "8      413.54\n",
       "9      389.43\n",
       "10     160.27\n",
       "11      54.89\n",
       "Name: Revenue(N), dtype: float64"
      ]
     },
     "execution_count": 82,
     "metadata": {},
     "output_type": "execute_result"
    }
   ],
   "source": [
    "# view of monthly revenue for 2015\n",
    "Total_monthly_revenue = df_2015.groupby(\"Month\")[\"Revenue(N)\"].sum().sort_values(ascending = False).reset_index(drop=True)\n",
    "Total_monthly_revenue"
   ]
  },
  {
   "cell_type": "code",
   "execution_count": 83,
   "id": "dcea797c",
   "metadata": {},
   "outputs": [
    {
     "data": {
      "text/html": [
       "<div>\n",
       "<style scoped>\n",
       "    .dataframe tbody tr th:only-of-type {\n",
       "        vertical-align: middle;\n",
       "    }\n",
       "\n",
       "    .dataframe tbody tr th {\n",
       "        vertical-align: top;\n",
       "    }\n",
       "\n",
       "    .dataframe thead th {\n",
       "        text-align: right;\n",
       "    }\n",
       "</style>\n",
       "<table border=\"1\" class=\"dataframe\">\n",
       "  <thead>\n",
       "    <tr style=\"text-align: right;\">\n",
       "      <th>Year</th>\n",
       "      <th>2014</th>\n",
       "      <th>2015</th>\n",
       "    </tr>\n",
       "    <tr>\n",
       "      <th>Month</th>\n",
       "      <th></th>\n",
       "      <th></th>\n",
       "    </tr>\n",
       "  </thead>\n",
       "  <tbody>\n",
       "    <tr>\n",
       "      <th>April</th>\n",
       "      <td>448.65</td>\n",
       "      <td>610.38</td>\n",
       "    </tr>\n",
       "    <tr>\n",
       "      <th>August</th>\n",
       "      <td>174.65</td>\n",
       "      <td>1830.90</td>\n",
       "    </tr>\n",
       "    <tr>\n",
       "      <th>December</th>\n",
       "      <td>1269.69</td>\n",
       "      <td>2018.78</td>\n",
       "    </tr>\n",
       "    <tr>\n",
       "      <th>February</th>\n",
       "      <td>719.37</td>\n",
       "      <td>1324.96</td>\n",
       "    </tr>\n",
       "    <tr>\n",
       "      <th>January</th>\n",
       "      <td>1188.55</td>\n",
       "      <td>413.54</td>\n",
       "    </tr>\n",
       "    <tr>\n",
       "      <th>July</th>\n",
       "      <td>1676.90</td>\n",
       "      <td>996.33</td>\n",
       "    </tr>\n",
       "    <tr>\n",
       "      <th>June</th>\n",
       "      <td>988.50</td>\n",
       "      <td>625.00</td>\n",
       "    </tr>\n",
       "    <tr>\n",
       "      <th>March</th>\n",
       "      <td>167.44</td>\n",
       "      <td>389.43</td>\n",
       "    </tr>\n",
       "    <tr>\n",
       "      <th>May</th>\n",
       "      <td>512.78</td>\n",
       "      <td>787.57</td>\n",
       "    </tr>\n",
       "    <tr>\n",
       "      <th>November</th>\n",
       "      <td>778.89</td>\n",
       "      <td>54.89</td>\n",
       "    </tr>\n",
       "    <tr>\n",
       "      <th>October</th>\n",
       "      <td>827.08</td>\n",
       "      <td>1157.49</td>\n",
       "    </tr>\n",
       "    <tr>\n",
       "      <th>September</th>\n",
       "      <td>505.84</td>\n",
       "      <td>160.27</td>\n",
       "    </tr>\n",
       "  </tbody>\n",
       "</table>\n",
       "</div>"
      ],
      "text/plain": [
       "Year          2014     2015\n",
       "Month                      \n",
       "April       448.65   610.38\n",
       "August      174.65  1830.90\n",
       "December   1269.69  2018.78\n",
       "February    719.37  1324.96\n",
       "January    1188.55   413.54\n",
       "July       1676.90   996.33\n",
       "June        988.50   625.00\n",
       "March       167.44   389.43\n",
       "May         512.78   787.57\n",
       "November    778.89    54.89\n",
       "October     827.08  1157.49\n",
       "September   505.84   160.27"
      ]
     },
     "execution_count": 83,
     "metadata": {},
     "output_type": "execute_result"
    }
   ],
   "source": [
    "# Monthly_revenue by year\n",
    "monthly_revenue = pd.pivot_table(data = df, values = 'Revenue(N)', columns = 'Year', index = 'Month', aggfunc = 'sum')\n",
    "monthly_revenue"
   ]
  },
  {
   "cell_type": "code",
   "execution_count": 84,
   "id": "d3a1c7c4",
   "metadata": {},
   "outputs": [
    {
     "data": {
      "text/plain": [
       "<Axes: xlabel='Month', ylabel='Revenue(N)'>"
      ]
     },
     "execution_count": 84,
     "metadata": {},
     "output_type": "execute_result"
    },
    {
     "data": {
      "image/png": "[encoded data removed]",
      "text/plain": [
       "<Figure size 640x480 with 1 Axes>"
      ]
     },
     "metadata": {},
     "output_type": "display_data"
    }
   ],
   "source": [
    "# lets put this in a plot using pandas\n",
    "Total_monthly_revenue.plot(kind = \"bar\",xlabel = \"Month\", ylabel =\"Revenue(N)\")"
   ]
  },
  {
   "cell_type": "code",
   "execution_count": 85,
   "id": "99d530af",
   "metadata": {},
   "outputs": [
    {
     "data": {
      "image/png": "[encoded data removed]",
      "text/plain": [
       "<Figure size 640x480 with 1 Axes>"
      ]
     },
     "metadata": {},
     "output_type": "display_data"
    }
   ],
   "source": [
    "# lets use matlplotlib\n",
    "plt.bar(Total_monthly_revenue.index, Total_monthly_revenue.values)\n",
    "plt.xlabel(\"Month\")\n",
    "plt.ylabel(\"Revenue(N)\")\n",
    "plt.title(\"Monthly Revenue in 2015\")\n",
    "plt.xticks(rotation = 45)\n",
    "plt.show()"
   ]
  },
  {
   "cell_type": "code",
   "execution_count": 86,
   "id": "f6fa6715",
   "metadata": {},
   "outputs": [
    {
     "data": {
      "text/plain": [
       "array(['Woji', 'GRA', 'Town'], dtype=object)"
      ]
     },
     "execution_count": 86,
     "metadata": {},
     "output_type": "execute_result"
    }
   ],
   "source": [
    "#2. Total revenue by branch\n",
    "# lest check the branches we have first\n",
    "df[\"Branch\"].unique()\n"
   ]
  },
  {
   "cell_type": "code",
   "execution_count": 87,
   "id": "87ecc7d0",
   "metadata": {},
   "outputs": [
    {
     "data": {
      "text/plain": [
       "Branch\n",
       "Woji    11139.07\n",
       "GRA      6002.09\n",
       "Town     2486.72\n",
       "Name: Revenue(N), dtype: float64"
      ]
     },
     "execution_count": 87,
     "metadata": {},
     "output_type": "execute_result"
    }
   ],
   "source": [
    "Total_revenue_by_branch = df.groupby(\"Branch\")[\"Revenue(N)\"].sum().sort_values(ascending = False)\n",
    "Total_revenue_by_branch"
   ]
  },
  {
   "cell_type": "code",
   "execution_count": 88,
   "id": "fa99d791",
   "metadata": {},
   "outputs": [
    {
     "data": {
      "image/png": "[encoded data removed]",
      "text/plain": [
       "<Figure size 640x480 with 1 Axes>"
      ]
     },
     "metadata": {},
     "output_type": "display_data"
    }
   ],
   "source": [
    "# plot the chart for Total Revenue by branch using matplotlib\n",
    "plt.pie(Total_revenue_by_branch.values, labels=Total_revenue_by_branch.index, autopct='%1.1f%%')\n",
    "plt.xlabel(\"Branch\")\n",
    "plt.ylabel(\"Revenue(N)\")\n",
    "plt.title(\"Total Revenue by Branch\")\n",
    "plt.show()"
   ]
  },
  {
   "cell_type": "code",
   "execution_count": 89,
   "id": "c5b7dd62",
   "metadata": {},
   "outputs": [
    {
     "data": {
      "text/plain": [
       "array(['Apple', 'Lenovo', 'HP', 'Compaq', 'Dell'], dtype=object)"
      ]
     },
     "execution_count": 89,
     "metadata": {},
     "output_type": "execute_result"
    }
   ],
   "source": [
    "#Total revenue by products\n",
    "## lets check the products available first\n",
    "df[\"Products\"].unique()\n"
   ]
  },
  {
   "cell_type": "code",
   "execution_count": 90,
   "id": "9beb9170",
   "metadata": {},
   "outputs": [
    {
     "data": {
      "text/plain": [
       "Products\n",
       "HP        9577.65\n",
       "Dell      4169.87\n",
       "Lenovo    2135.14\n",
       "Compaq    2045.22\n",
       "Apple     1700.00\n",
       "Name: Revenue(N), dtype: float64"
      ]
     },
     "execution_count": 90,
     "metadata": {},
     "output_type": "execute_result"
    }
   ],
   "source": [
    "\n",
    "Total_revenue_by_product = df.groupby(\"Products\")[\"Revenue(N)\"].sum().sort_values(ascending = False)\n",
    "Total_revenue_by_product\n"
   ]
  },
  {
   "cell_type": "code",
   "execution_count": 91,
   "id": "39bbb31b",
   "metadata": {},
   "outputs": [
    {
     "data": {
      "image/png": "[encoded data removed]",
      "text/plain": [
       "<Figure size 640x480 with 1 Axes>"
      ]
     },
     "metadata": {},
     "output_type": "display_data"
    }
   ],
   "source": [
    "# Lets plot\n",
    "plt.pie(Total_revenue_by_product.values, labels=Total_revenue_by_product.index, autopct='%1.1f%%')\n",
    "plt.xlabel(\"Product\")\n",
    "plt.ylabel(\"Revenue(N)\")\n",
    "plt.title(\"Total Revenue by Product\")\n",
    "plt.show()"
   ]
  },
  {
   "cell_type": "code",
   "execution_count": 92,
   "id": "85cc3e93",
   "metadata": {},
   "outputs": [
    {
     "data": {
      "text/plain": [
       "array(['Chinedu', 'Emeka', 'Ibrahim', 'Tolu', 'Tonye', 'George',\n",
       "       'Blessing', 'Chioma', 'Torbari', 'Uche', 'Tunde'], dtype=object)"
      ]
     },
     "execution_count": 92,
     "metadata": {},
     "output_type": "execute_result"
    }
   ],
   "source": [
    "#3. Total revenue by sales agent\n",
    "\n",
    "#Lets check who our sales agents are\n",
    "df[\"Sales Agent\"].unique()"
   ]
  },
  {
   "cell_type": "code",
   "execution_count": 35,
   "id": "f9fdd09a",
   "metadata": {},
   "outputs": [
    {
     "data": {
      "text/plain": [
       "Sales Agent\n",
       "Emeka       3109.44\n",
       "Chioma      3102.30\n",
       "Tolu        2812.19\n",
       "Blessing    2363.04\n",
       "Ibrahim     1749.87\n",
       "Chinedu     1641.43\n",
       "George      1387.77\n",
       "Uche        1283.61\n",
       "Tunde       1203.11\n",
       "Torbari      536.75\n",
       "Tonye        438.37\n",
       "Name: Revenue(N), dtype: float64"
      ]
     },
     "execution_count": 35,
     "metadata": {},
     "output_type": "execute_result"
    }
   ],
   "source": [
    "Total_revenue_by_sales_agent = df.groupby(\"Sales Agent\")[\"Revenue(N)\"].sum().sort_values(ascending = False)\n",
    "Total_revenue_by_sales_agent"
   ]
  },
  {
   "cell_type": "code",
   "execution_count": 93,
   "id": "c7e6eabf",
   "metadata": {},
   "outputs": [
    {
     "data": {
      "text/plain": [
       "<Axes: ylabel='Sales Agent'>"
      ]
     },
     "execution_count": 93,
     "metadata": {},
     "output_type": "execute_result"
    },
    {
     "data": {
      "image/png": "[encoded data removed]",
      "text/plain": [
       "<Figure size 640x480 with 1 Axes>"
      ]
     },
     "metadata": {},
     "output_type": "display_data"
    }
   ],
   "source": [
    "#plot using seaborn barchart\n",
    "sns.barplot(x = Total_revenue_by_sales_agent.values, y = Total_revenue_by_sales_agent.index, orient = \"h\")"
   ]
  },
  {
   "cell_type": "code",
   "execution_count": 94,
   "id": "8a931ed4",
   "metadata": {},
   "outputs": [
    {
     "data": {
      "text/plain": [
       "Week\n",
       "Monday       3515.17\n",
       "Friday       3426.63\n",
       "Tuesday      3388.97\n",
       "Wednesday    3348.58\n",
       "Sunday       3146.20\n",
       "Thursday     1809.96\n",
       "Saturday      992.37\n",
       "Name: Revenue(N), dtype: float64"
      ]
     },
     "execution_count": 94,
     "metadata": {},
     "output_type": "execute_result"
    }
   ],
   "source": [
    "#4. Total revenue by week\n",
    "Total_revenue_by_week = df.groupby(\"Week\")[\"Revenue(N)\"].sum().sort_values(ascending = False)\n",
    "Total_revenue_by_week"
   ]
  },
  {
   "cell_type": "code",
   "execution_count": 95,
   "id": "7be52bb8",
   "metadata": {},
   "outputs": [
    {
     "data": {
      "image/png": "[encoded data removed]",
      "text/plain": [
       "<Figure size 640x480 with 1 Axes>"
      ]
     },
     "metadata": {},
     "output_type": "display_data"
    }
   ],
   "source": [
    "# plot this using line chart\n",
    "plt.plot(Total_revenue_by_week.index, Total_revenue_by_week.values)\n",
    "plt.xlabel(\"Week\")\n",
    "plt.ylabel(\"Revenue(N)\")\n",
    "plt.title(\"Total Revenue by Week\")\n",
    "plt.show()"
   ]
  },
  {
   "cell_type": "code",
   "execution_count": 96,
   "id": "cd0a7b8e",
   "metadata": {},
   "outputs": [
    {
     "data": {
      "text/plain": [
       "Month\n",
       "December     3288.47\n",
       "July         2673.23\n",
       "February     2044.33\n",
       "August       2005.55\n",
       "October      1984.57\n",
       "June         1613.50\n",
       "January      1602.09\n",
       "May          1300.35\n",
       "April        1059.03\n",
       "November      833.78\n",
       "September     666.11\n",
       "March         556.87\n",
       "Name: Revenue(N), dtype: float64"
      ]
     },
     "execution_count": 96,
     "metadata": {},
     "output_type": "execute_result"
    }
   ],
   "source": [
    "#5. Total revenue by month\n",
    "Total_revenue_by_month = df.groupby(\"Month\")[\"Revenue(N)\"].sum().sort_values(ascending = False)\n",
    "Total_revenue_by_month"
   ]
  },
  {
   "cell_type": "code",
   "execution_count": 97,
   "id": "9c9a54fb",
   "metadata": {},
   "outputs": [
    {
     "data": {
      "image/png": "[encoded data removed]",
      "text/plain": [
       "<Figure size 640x480 with 1 Axes>"
      ]
     },
     "metadata": {},
     "output_type": "display_data"
    }
   ],
   "source": [
    "# plot using searborn line chart\n",
    "sns.lineplot(x = Total_revenue_by_month.index, y = Total_revenue_by_month.values)\n",
    "plt.xlabel(\"Month\")\n",
    "plt.xticks(rotation = 45)\n",
    "plt.ylabel(\"Revenue(N)\")\n",
    "plt.title(\"Total Revenue by Month\")\n",
    "plt.show()"
   ]
  },
  {
   "cell_type": "code",
   "execution_count": 98,
   "id": "ab55781c",
   "metadata": {},
   "outputs": [
    {
     "data": {
      "text/html": [
       "<div>\n",
       "<style scoped>\n",
       "    .dataframe tbody tr th:only-of-type {\n",
       "        vertical-align: middle;\n",
       "    }\n",
       "\n",
       "    .dataframe tbody tr th {\n",
       "        vertical-align: top;\n",
       "    }\n",
       "\n",
       "    .dataframe thead th {\n",
       "        text-align: right;\n",
       "    }\n",
       "</style>\n",
       "<table border=\"1\" class=\"dataframe\">\n",
       "  <thead>\n",
       "    <tr style=\"text-align: right;\">\n",
       "      <th></th>\n",
       "      <th>Year</th>\n",
       "      <th>Month</th>\n",
       "      <th>Revenue(N)</th>\n",
       "    </tr>\n",
       "  </thead>\n",
       "  <tbody>\n",
       "    <tr>\n",
       "      <th>0</th>\n",
       "      <td>2014</td>\n",
       "      <td>April</td>\n",
       "      <td>448.65</td>\n",
       "    </tr>\n",
       "    <tr>\n",
       "      <th>1</th>\n",
       "      <td>2014</td>\n",
       "      <td>August</td>\n",
       "      <td>174.65</td>\n",
       "    </tr>\n",
       "    <tr>\n",
       "      <th>2</th>\n",
       "      <td>2014</td>\n",
       "      <td>December</td>\n",
       "      <td>1269.69</td>\n",
       "    </tr>\n",
       "    <tr>\n",
       "      <th>3</th>\n",
       "      <td>2014</td>\n",
       "      <td>February</td>\n",
       "      <td>719.37</td>\n",
       "    </tr>\n",
       "    <tr>\n",
       "      <th>4</th>\n",
       "      <td>2014</td>\n",
       "      <td>January</td>\n",
       "      <td>1188.55</td>\n",
       "    </tr>\n",
       "    <tr>\n",
       "      <th>5</th>\n",
       "      <td>2014</td>\n",
       "      <td>July</td>\n",
       "      <td>1676.90</td>\n",
       "    </tr>\n",
       "    <tr>\n",
       "      <th>6</th>\n",
       "      <td>2014</td>\n",
       "      <td>June</td>\n",
       "      <td>988.50</td>\n",
       "    </tr>\n",
       "    <tr>\n",
       "      <th>7</th>\n",
       "      <td>2014</td>\n",
       "      <td>March</td>\n",
       "      <td>167.44</td>\n",
       "    </tr>\n",
       "    <tr>\n",
       "      <th>8</th>\n",
       "      <td>2014</td>\n",
       "      <td>May</td>\n",
       "      <td>512.78</td>\n",
       "    </tr>\n",
       "    <tr>\n",
       "      <th>9</th>\n",
       "      <td>2014</td>\n",
       "      <td>November</td>\n",
       "      <td>778.89</td>\n",
       "    </tr>\n",
       "    <tr>\n",
       "      <th>10</th>\n",
       "      <td>2014</td>\n",
       "      <td>October</td>\n",
       "      <td>827.08</td>\n",
       "    </tr>\n",
       "    <tr>\n",
       "      <th>11</th>\n",
       "      <td>2014</td>\n",
       "      <td>September</td>\n",
       "      <td>505.84</td>\n",
       "    </tr>\n",
       "    <tr>\n",
       "      <th>12</th>\n",
       "      <td>2015</td>\n",
       "      <td>April</td>\n",
       "      <td>610.38</td>\n",
       "    </tr>\n",
       "    <tr>\n",
       "      <th>13</th>\n",
       "      <td>2015</td>\n",
       "      <td>August</td>\n",
       "      <td>1830.90</td>\n",
       "    </tr>\n",
       "    <tr>\n",
       "      <th>14</th>\n",
       "      <td>2015</td>\n",
       "      <td>December</td>\n",
       "      <td>2018.78</td>\n",
       "    </tr>\n",
       "    <tr>\n",
       "      <th>15</th>\n",
       "      <td>2015</td>\n",
       "      <td>February</td>\n",
       "      <td>1324.96</td>\n",
       "    </tr>\n",
       "    <tr>\n",
       "      <th>16</th>\n",
       "      <td>2015</td>\n",
       "      <td>January</td>\n",
       "      <td>413.54</td>\n",
       "    </tr>\n",
       "    <tr>\n",
       "      <th>17</th>\n",
       "      <td>2015</td>\n",
       "      <td>July</td>\n",
       "      <td>996.33</td>\n",
       "    </tr>\n",
       "    <tr>\n",
       "      <th>18</th>\n",
       "      <td>2015</td>\n",
       "      <td>June</td>\n",
       "      <td>625.00</td>\n",
       "    </tr>\n",
       "    <tr>\n",
       "      <th>19</th>\n",
       "      <td>2015</td>\n",
       "      <td>March</td>\n",
       "      <td>389.43</td>\n",
       "    </tr>\n",
       "    <tr>\n",
       "      <th>20</th>\n",
       "      <td>2015</td>\n",
       "      <td>May</td>\n",
       "      <td>787.57</td>\n",
       "    </tr>\n",
       "    <tr>\n",
       "      <th>21</th>\n",
       "      <td>2015</td>\n",
       "      <td>November</td>\n",
       "      <td>54.89</td>\n",
       "    </tr>\n",
       "    <tr>\n",
       "      <th>22</th>\n",
       "      <td>2015</td>\n",
       "      <td>October</td>\n",
       "      <td>1157.49</td>\n",
       "    </tr>\n",
       "    <tr>\n",
       "      <th>23</th>\n",
       "      <td>2015</td>\n",
       "      <td>September</td>\n",
       "      <td>160.27</td>\n",
       "    </tr>\n",
       "  </tbody>\n",
       "</table>\n",
       "</div>"
      ],
      "text/plain": [
       "    Year      Month  Revenue(N)\n",
       "0   2014      April      448.65\n",
       "1   2014     August      174.65\n",
       "2   2014   December     1269.69\n",
       "3   2014   February      719.37\n",
       "4   2014    January     1188.55\n",
       "5   2014       July     1676.90\n",
       "6   2014       June      988.50\n",
       "7   2014      March      167.44\n",
       "8   2014        May      512.78\n",
       "9   2014   November      778.89\n",
       "10  2014    October      827.08\n",
       "11  2014  September      505.84\n",
       "12  2015      April      610.38\n",
       "13  2015     August     1830.90\n",
       "14  2015   December     2018.78\n",
       "15  2015   February     1324.96\n",
       "16  2015    January      413.54\n",
       "17  2015       July      996.33\n",
       "18  2015       June      625.00\n",
       "19  2015      March      389.43\n",
       "20  2015        May      787.57\n",
       "21  2015   November       54.89\n",
       "22  2015    October     1157.49\n",
       "23  2015  September      160.27"
      ]
     },
     "execution_count": 98,
     "metadata": {},
     "output_type": "execute_result"
    }
   ],
   "source": [
    "#6. Trends of sales\n",
    "Trends_of_sales_over_the_year = df.groupby([\"Year\",\"Month\"])[\"Revenue(N)\"].sum().reset_index()\n",
    "Trends_of_sales_over_the_year"
   ]
  },
  {
   "cell_type": "code",
   "execution_count": 99,
   "id": "8914da97",
   "metadata": {},
   "outputs": [
    {
     "data": {
      "text/plain": [
       "[<matplotlib.lines.Line2D at 0x1eacfa6da90>]"
      ]
     },
     "execution_count": 99,
     "metadata": {},
     "output_type": "execute_result"
    },
    {
     "data": {
      "image/png": "[encoded data removed]",
      "text/plain": [
       "<Figure size 640x480 with 1 Axes>"
      ]
     },
     "metadata": {},
     "output_type": "display_data"
    }
   ],
   "source": [
    "# plot\n",
    "plt.plot(Trends_of_sales_over_the_year[\"Month\"], Trends_of_sales_over_the_year[\"Revenue(N)\"])"
   ]
  }
 ],
 "metadata": {
  "kernelspec": {
   "display_name": "a_env",
   "language": "python",
   "name": "python3"
  },
  "language_info": {
   "codemirror_mode": {
    "name": "ipython",
    "version": 3
   },
   "file_extension": ".py",
   "mimetype": "text/x-python",
   "name": "python",
   "nbconvert_exporter": "python",
   "pygments_lexer": "ipython3",
   "version": "3.13.1"
  }
 },
 "nbformat": 4,
 "nbformat_minor": 5
}
