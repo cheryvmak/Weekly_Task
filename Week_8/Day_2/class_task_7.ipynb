{
 "cells": [
  {
   "cell_type": "markdown",
   "id": "7ba5eb3f",
   "metadata": {},
   "source": [
    "Question 1 \n",
    "\n",
    "Given data = [4, 8, 6, 5, 3]  calculate variance"
   ]
  },
  {
   "cell_type": "markdown",
   "id": "50f05ee4",
   "metadata": {},
   "source": [
    "$\\overline{x}$ =  $\\frac{4 + 8 + 6 + 5 + 3} {5}$  =  $\\frac{26} {5}$ = 5.2"
   ]
  },
  {
   "cell_type": "markdown",
   "id": "b92931a3",
   "metadata": {},
   "source": [
    "$\\displaystyle\\sum_{i =1}^5$(x - $\\overline{x}$)^2 = [(4 - 5.2)^2 + (8 - 5.2)^2 + (6 - 5.2)^2 + (5 - 5.2)^2 + (3 - 5.2)^2]  = [(-1.2)^2 + (2.8)^2 + (0.8)^2 + (-0.2)^2 + (-2.2)^2]\n",
    "\n",
    "= [(1.44) + (7.84) + (0.64) + (0.04) + (4.84)]  = 14.8\n",
    "\n",
    "= $\\frac{14.8} {5}$ =  2.96"
   ]
  }
 ],
 "metadata": {
  "language_info": {
   "name": "python"
  }
 },
 "nbformat": 4,
 "nbformat_minor": 5
}
