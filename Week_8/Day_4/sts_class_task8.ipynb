{
 "cells": [
  {
   "cell_type": "markdown",
   "id": "b6c1a562",
   "metadata": {},
   "source": [
    "Chi-Square for Categorical Data\n",
    "\n",
    "\n",
    "* The Chi-square test evaluates whether there's a significant association between categorical variables.\n",
    " \n",
    " * It compares observed frequencies in categories to expected frequencies under independence. Commonly used in contingency tables (e.g., survey responses by gender).\n",
    " \n",
    " * A large Chi-square value suggests the variables are not independent.\n",
    " The test requires a sufficiently large sample size and expected counts > 5.\n"
   ]
  },
  {
   "cell_type": "markdown",
   "id": "54490f98",
   "metadata": {},
   "source": [
    "ANOVA for Comparing More Than Two Means\n",
    "\n",
    "* ANOVA (Analysis of Variance) tests whether the means of three or more groups are significantly different.\n",
    "\n",
    " * It compares variability between groups to variability within groups.\n",
    " \n",
    " * A significant F-statistic suggests that at least one group mean differs.\n",
    " It assumes normality and equal variances across groups.\n",
    "\n",
    " * Post-hoc tests are used to identify specific group differences."
   ]
  },
  {
   "cell_type": "markdown",
   "id": "37c56e01",
   "metadata": {},
   "source": [
    "Two-Tailed Test\n",
    "\n",
    "* A two-tailed test checks for the possibility of an effect in both directions.\n",
    " \n",
    "* It is used when deviations on either side of the null hypothesis are considered important.\n",
    "\n",
    "* The significance level (alpha) is split between both tails of the distribution.\n",
    " \n",
    "* If the test statistic falls in either tail, the null hypothesis is rejected.\n",
    "   This is more conservative than a one-tailed test.\n"
   ]
  },
  {
   "cell_type": "markdown",
   "id": "e2d6194d",
   "metadata": {},
   "source": [
    "Proportion Test\n",
    "\n",
    "* A proportion test evaluates whether a sample proportion differs from a hypothesized value or another proportion.\n",
    "\n",
    "* It is used in binary outcome data (e.g., success/failure).\n",
    "\n",
    "* The z-test is commonly applied when sample sizes are large.\n",
    "\n",
    "* It assumes random sampling and independent observations.\n",
    "\n",
    "* Useful in surveys, clinical trials, and A/B testing.\n"
   ]
  }
 ],
 "metadata": {
  "language_info": {
   "name": "python"
  }
 },
 "nbformat": 4,
 "nbformat_minor": 5
}
