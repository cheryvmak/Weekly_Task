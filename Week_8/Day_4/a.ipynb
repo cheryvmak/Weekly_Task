{
 "cells": [
  {
   "cell_type": "markdown",
   "id": "03d28d35",
   "metadata": {},
   "source": [
    "Chi square"
   ]
  }
 ],
 "metadata": {
  "language_info": {
   "name": "python"
  }
 },
 "nbformat": 4,
 "nbformat_minor": 5
}
