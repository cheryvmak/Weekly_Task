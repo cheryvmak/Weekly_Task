{
 "cells": [
  {
   "cell_type": "markdown",
   "id": "2b104ea3",
   "metadata": {},
   "source": [
    "Question 1 \n",
    "\n",
    "Class test score"
   ]
  },
  {
   "cell_type": "markdown",
   "id": "1275ecb8",
   "metadata": {},
   "source": [
    "sum_test_score =  $5 + 8 + 10 + 12 + 12 + 12 + 13 + 14 + 14 + 15 + 16 + 18 + 18 + 20 + 20$ =  $207$"
   ]
  },
  {
   "cell_type": "markdown",
   "id": "0a82b786",
   "metadata": {},
   "source": [
    "no_of_student = $15$"
   ]
  },
  {
   "cell_type": "markdown",
   "id": "e7be6a8e",
   "metadata": {},
   "source": [
    "i. mean_test_score = 207 / 15 = 13.8"
   ]
  }
 ],
 "metadata": {
  "language_info": {
   "name": "python"
  }
 },
 "nbformat": 4,
 "nbformat_minor": 5
}
