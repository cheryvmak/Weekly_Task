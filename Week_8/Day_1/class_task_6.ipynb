{
 "cells": [
  {
   "cell_type": "markdown",
   "id": "2b104ea3",
   "metadata": {},
   "source": [
    "Question 1 \n",
    "\n",
    "Class test score"
   ]
  },
  {
   "cell_type": "markdown",
   "id": "1275ecb8",
   "metadata": {},
   "source": [
    "sum_test_score =  $5 + 8 + 10 + 12 + 12 + 12 + 13 + 14 + 14 + 15 + 16 + 18 + 18 + 20 + 20$ =  $207$"
   ]
  },
  {
   "cell_type": "markdown",
   "id": "0a82b786",
   "metadata": {},
   "source": [
    "no_of_student = $15$"
   ]
  },
  {
   "cell_type": "markdown",
   "id": "e7be6a8e",
   "metadata": {},
   "source": [
    "i. mean_test_score = 207 / 15 = 13.8"
   ]
  },
  {
   "cell_type": "markdown",
   "id": "95fd27b3",
   "metadata": {},
   "source": [
    "ii. median_test_score = (5 , 8 , 10 , 12 , 12 , 12 , 13) , 14 ,(14 , 15 , 16 , 18 , 18 , 20 , 20)   = 14 \n",
    "\n",
    "(sorting from left and right the middle value is 14)"
   ]
  },
  {
   "cell_type": "markdown",
   "id": "693107bf",
   "metadata": {},
   "source": [
    "iii. modal_score = The most occuring score is 12. it appears three times"
   ]
  },
  {
   "cell_type": "markdown",
   "id": "1c8f30a6",
   "metadata": {},
   "source": [
    "sum = 10 + 8 + 10 + 12 + 12 + 12 + 13 + 14 + 14 + 15 + 16 + 18 + 18 + 20 + 20 = 212\n",
    "\n",
    "no_of_student = 15 \n",
    "\n",
    "mean_test_score = 212 / 15 = 14.13. \n",
    "\n",
    "The mean score will change and increase from 13.8 to 14.13.\n",
    "\n",
    "The median and mean will remain the same."
   ]
  },
  {
   "cell_type": "code",
   "execution_count": null,
   "id": "c0fa2f16",
   "metadata": {},
   "outputs": [],
   "source": []
  },
  {
   "cell_type": "markdown",
   "id": "2a8d0360",
   "metadata": {},
   "source": [
    "Question 2 "
   ]
  },
  {
   "cell_type": "markdown",
   "id": "6ea19677",
   "metadata": {},
   "source": [
    "Daily commute times\n",
    "\n",
    "time_taken = 15, 20, 20, 25, 25, 30, 60, 65, 120\n",
    "\n",
    "no_of_student = 9\n",
    "\n",
    "i. mean_time_taken = 380 / 9 = 42.22"
   ]
  },
  {
   "cell_type": "markdown",
   "id": "57d90c3b",
   "metadata": {},
   "source": [
    "ii. median_test_score = (15, 20, 20, 25), 25, (30, 60, 65, 120) = 25 (sorting from ascending to descending the middle value is 25)"
   ]
  },
  {
   "cell_type": "markdown",
   "id": "117cd738",
   "metadata": {},
   "source": [
    "iii. modal_score = The most occuring score is 20 and 25. They appears twice(bi-modal)\n"
   ]
  },
  {
   "cell_type": "markdown",
   "id": "47a7650a",
   "metadata": {},
   "source": [
    "iv. The measure that best represent the  “typical” time it takes students to get to school is the median time taken because the time is an interval data and i think modal time taken is best for categorical data, the mean time taken has been affected by the outlier(120 minutes). so here i will select the median score. "
   ]
  },
  {
   "cell_type": "code",
   "execution_count": null,
   "id": "0e351b01",
   "metadata": {},
   "outputs": [],
   "source": []
  },
  {
   "cell_type": "markdown",
   "id": "0de2e6b5",
   "metadata": {},
   "source": [
    "Question 3\n",
    "\n",
    "Shoe Sizes"
   ]
  },
  {
   "cell_type": "markdown",
   "id": "705dbc6b",
   "metadata": {},
   "source": [
    "shoe_sizes =  38, 39, 38, 40, 41, 42, 39, 39, 40, 38, 37, 39, 40, 41, 42\n",
    "\n",
    "by re arranging the shoe size : 37, 38, 38, 38, 39, 39, 39, 39, 40, 40, 40, 41, 41, 42, 42"
   ]
  },
  {
   "cell_type": "markdown",
   "id": "9559532b",
   "metadata": {},
   "source": [
    "i. The mode is the most occuring shoe size which is 39. it appears four times. \n",
    "\n",
    "\n",
    "ii. If a shoe company wants to donate free shoes, which size should they produce most of? Why?\n",
    "\n",
    "The shoe company should produce shoe size 39, since this is the shoe size that most student wear in the class. More student will be able to wear the shoe as student with size 37, 38, 40, 41 can still wear it.\n",
    "\n",
    "\n",
    "iii. The shoe company should produce shoe size 39, since this is the shoe size that most student wear in the class and also getting the middle value of the shoe size of the student in which this is also 39, can help the shoe company to produce one size which is size 39 and this size is also very close to the average shoe size( 39.5) of the class.\n"
   ]
  }
 ],
 "metadata": {
  "kernelspec": {
   "display_name": "Python 3",
   "language": "python",
   "name": "python3"
  },
  "language_info": {
   "codemirror_mode": {
    "name": "ipython",
    "version": 3
   },
   "file_extension": ".py",
   "mimetype": "text/x-python",
   "name": "python",
   "nbconvert_exporter": "python",
   "pygments_lexer": "ipython3",
   "version": "3.13.6"
  }
 },
 "nbformat": 4,
 "nbformat_minor": 5
}
