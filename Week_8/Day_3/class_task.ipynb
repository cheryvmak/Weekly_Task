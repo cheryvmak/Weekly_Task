{
 "cells": [
  {
   "cell_type": "code",
   "execution_count": 1,
   "id": "2a0f0c31",
   "metadata": {},
   "outputs": [
    {
     "name": "stdout",
     "output_type": "stream",
     "text": [
      "Collecting gdown\n",
      "  Downloading gdown-5.2.0-py3-none-any.whl.metadata (5.8 kB)\n",
      "Collecting beautifulsoup4 (from gdown)\n",
      "  Downloading beautifulsoup4-4.14.2-py3-none-any.whl.metadata (3.8 kB)\n",
      "Collecting filelock (from gdown)\n",
      "  Downloading filelock-3.19.1-py3-none-any.whl.metadata (2.1 kB)\n",
      "Collecting requests[socks] (from gdown)\n",
      "  Downloading requests-2.32.5-py3-none-any.whl.metadata (4.9 kB)\n",
      "Collecting tqdm (from gdown)\n",
      "  Downloading tqdm-4.67.1-py3-none-any.whl.metadata (57 kB)\n",
      "Collecting soupsieve>1.2 (from beautifulsoup4->gdown)\n",
      "  Downloading soupsieve-2.8-py3-none-any.whl.metadata (4.6 kB)\n",
      "Collecting typing-extensions>=4.0.0 (from beautifulsoup4->gdown)\n",
      "  Downloading typing_extensions-4.15.0-py3-none-any.whl.metadata (3.3 kB)\n",
      "Collecting charset_normalizer<4,>=2 (from requests[socks]->gdown)\n",
      "  Downloading charset_normalizer-3.4.3-cp313-cp313-win_amd64.whl.metadata (37 kB)\n",
      "Collecting idna<4,>=2.5 (from requests[socks]->gdown)\n",
      "  Downloading idna-3.10-py3-none-any.whl.metadata (10 kB)\n",
      "Collecting urllib3<3,>=1.21.1 (from requests[socks]->gdown)\n",
      "  Downloading urllib3-2.5.0-py3-none-any.whl.metadata (6.5 kB)\n",
      "Collecting certifi>=2017.4.17 (from requests[socks]->gdown)\n",
      "  Downloading certifi-2025.8.3-py3-none-any.whl.metadata (2.4 kB)\n",
      "Collecting PySocks!=1.5.7,>=1.5.6 (from requests[socks]->gdown)\n",
      "  Downloading PySocks-1.7.1-py3-none-any.whl.metadata (13 kB)\n",
      "Requirement already satisfied: colorama in c:\\users\\ncc777\\desktop\\data analysis\\a_env\\lib\\site-packages (from tqdm->gdown) (0.4.6)\n",
      "Downloading gdown-5.2.0-py3-none-any.whl (18 kB)\n",
      "Downloading beautifulsoup4-4.14.2-py3-none-any.whl (106 kB)\n",
      "Downloading soupsieve-2.8-py3-none-any.whl (36 kB)\n",
      "Downloading typing_extensions-4.15.0-py3-none-any.whl (44 kB)\n",
      "Downloading filelock-3.19.1-py3-none-any.whl (15 kB)\n",
      "Downloading requests-2.32.5-py3-none-any.whl (64 kB)\n",
      "Downloading charset_normalizer-3.4.3-cp313-cp313-win_amd64.whl (107 kB)\n",
      "Downloading idna-3.10-py3-none-any.whl (70 kB)\n",
      "Downloading urllib3-2.5.0-py3-none-any.whl (129 kB)\n",
      "Downloading certifi-2025.8.3-py3-none-any.whl (161 kB)\n",
      "Downloading PySocks-1.7.1-py3-none-any.whl (16 kB)\n",
      "Downloading tqdm-4.67.1-py3-none-any.whl (78 kB)\n",
      "Installing collected packages: urllib3, typing-extensions, tqdm, soupsieve, PySocks, idna, filelock, charset_normalizer, certifi, requests, beautifulsoup4, gdown\n",
      "\n",
      "   ----------------------------------------  0/12 [urllib3]\n",
      "   ----------------------------------------  0/12 [urllib3]\n",
      "   ----------------------------------------  0/12 [urllib3]\n",
      "   ----------------------------------------  0/12 [urllib3]\n",
      "   ----------------------------------------  0/12 [urllib3]\n",
      "   ----------------------------------------  0/12 [urllib3]\n",
      "   ----------------------------------------  0/12 [urllib3]\n",
      "   ----------------------------------------  0/12 [urllib3]\n",
      "   ----------------------------------------  0/12 [urllib3]\n",
      "   ----------------------------------------  0/12 [urllib3]\n",
      "   ----------------------------------------  0/12 [urllib3]\n",
      "   ----------------------------------------  0/12 [urllib3]\n",
      "   --- ------------------------------------  1/12 [typing-extensions]\n",
      "   --- ------------------------------------  1/12 [typing-extensions]\n",
      "   ------ ---------------------------------  2/12 [tqdm]\n",
      "   ------ ---------------------------------  2/12 [tqdm]\n",
      "   ------ ---------------------------------  2/12 [tqdm]\n",
      "   ------ ---------------------------------  2/12 [tqdm]\n",
      "   ------ ---------------------------------  2/12 [tqdm]\n",
      "   ------ ---------------------------------  2/12 [tqdm]\n",
      "   ------ ---------------------------------  2/12 [tqdm]\n",
      "   ------ ---------------------------------  2/12 [tqdm]\n",
      "   ------ ---------------------------------  2/12 [tqdm]\n",
      "   ------ ---------------------------------  2/12 [tqdm]\n",
      "   ------ ---------------------------------  2/12 [tqdm]\n",
      "   ------ ---------------------------------  2/12 [tqdm]\n",
      "   ---------- -----------------------------  3/12 [soupsieve]\n",
      "   ---------- -----------------------------  3/12 [soupsieve]\n",
      "   ---------- -----------------------------  3/12 [soupsieve]\n",
      "   ---------- -----------------------------  3/12 [soupsieve]\n",
      "   ---------- -----------------------------  3/12 [soupsieve]\n",
      "   ---------- -----------------------------  3/12 [soupsieve]\n",
      "   ------------- --------------------------  4/12 [PySocks]\n",
      "   ------------- --------------------------  4/12 [PySocks]\n",
      "   ------------- --------------------------  4/12 [PySocks]\n",
      "   ------------- --------------------------  4/12 [PySocks]\n",
      "   ------------- --------------------------  4/12 [PySocks]\n",
      "   ---------------- -----------------------  5/12 [idna]\n",
      "   ---------------- -----------------------  5/12 [idna]\n",
      "   ---------------- -----------------------  5/12 [idna]\n",
      "   ---------------- -----------------------  5/12 [idna]\n",
      "   ---------------- -----------------------  5/12 [idna]\n",
      "   ---------------- -----------------------  5/12 [idna]\n",
      "   ---------------- -----------------------  5/12 [idna]\n",
      "   -------------------- -------------------  6/12 [filelock]\n",
      "   -------------------- -------------------  6/12 [filelock]\n",
      "   -------------------- -------------------  6/12 [filelock]\n",
      "   -------------------- -------------------  6/12 [filelock]\n",
      "   -------------------- -------------------  6/12 [filelock]\n",
      "   -------------------- -------------------  6/12 [filelock]\n",
      "   ----------------------- ----------------  7/12 [charset_normalizer]\n",
      "   ----------------------- ----------------  7/12 [charset_normalizer]\n",
      "   ----------------------- ----------------  7/12 [charset_normalizer]\n",
      "   ----------------------- ----------------  7/12 [charset_normalizer]\n",
      "   -------------------------- -------------  8/12 [certifi]\n",
      "   ------------------------------ ---------  9/12 [requests]\n",
      "   ------------------------------ ---------  9/12 [requests]\n",
      "   ------------------------------ ---------  9/12 [requests]\n",
      "   --------------------------------- ------ 10/12 [beautifulsoup4]\n",
      "   --------------------------------- ------ 10/12 [beautifulsoup4]\n",
      "   --------------------------------- ------ 10/12 [beautifulsoup4]\n",
      "   --------------------------------- ------ 10/12 [beautifulsoup4]\n",
      "   --------------------------------- ------ 10/12 [beautifulsoup4]\n",
      "   --------------------------------- ------ 10/12 [beautifulsoup4]\n",
      "   --------------------------------- ------ 10/12 [beautifulsoup4]\n",
      "   --------------------------------- ------ 10/12 [beautifulsoup4]\n",
      "   --------------------------------- ------ 10/12 [beautifulsoup4]\n",
      "   --------------------------------- ------ 10/12 [beautifulsoup4]\n",
      "   ------------------------------------ --- 11/12 [gdown]\n",
      "   ------------------------------------ --- 11/12 [gdown]\n",
      "   ------------------------------------ --- 11/12 [gdown]\n",
      "   ------------------------------------ --- 11/12 [gdown]\n",
      "   ------------------------------------ --- 11/12 [gdown]\n",
      "   ------------------------------------ --- 11/12 [gdown]\n",
      "   ------------------------------------ --- 11/12 [gdown]\n",
      "   ------------------------------------ --- 11/12 [gdown]\n",
      "   ------------------------------------ --- 11/12 [gdown]\n",
      "   ------------------------------------ --- 11/12 [gdown]\n",
      "   ------------------------------------ --- 11/12 [gdown]\n",
      "   ------------------------------------ --- 11/12 [gdown]\n",
      "   ------------------------------------ --- 11/12 [gdown]\n",
      "   ------------------------------------ --- 11/12 [gdown]\n",
      "   ------------------------------------ --- 11/12 [gdown]\n",
      "   ------------------------------------ --- 11/12 [gdown]\n",
      "   ---------------------------------------- 12/12 [gdown]\n",
      "\n",
      "Successfully installed PySocks-1.7.1 beautifulsoup4-4.14.2 certifi-2025.8.3 charset_normalizer-3.4.3 filelock-3.19.1 gdown-5.2.0 idna-3.10 requests-2.32.5 soupsieve-2.8 tqdm-4.67.1 typing-extensions-4.15.0 urllib3-2.5.0\n"
     ]
    }
   ],
   "source": [
    "!pip install gdown\n",
    "import gdown"
   ]
  },
  {
   "cell_type": "code",
   "execution_count": 5,
   "id": "61c23f2c",
   "metadata": {},
   "outputs": [
    {
     "name": "stderr",
     "output_type": "stream",
     "text": [
      "Downloading...\n",
      "From: https://drive.google.com/uc?id=1yB5qSBOLl96Y563nIewKOU8RN_gsY3dO\n",
      "To: c:\\Users\\ncc777\\Desktop\\Data analysis\\a_env\\file_3\\data.csv\n",
      "100%|██████████| 52.0k/52.0k [00:00<00:00, 49.5MB/s]\n"
     ]
    },
    {
     "data": {
      "text/plain": [
       "'data.csv'"
      ]
     },
     "execution_count": 5,
     "metadata": {},
     "output_type": "execute_result"
    }
   ],
   "source": [
    "file_id = '1yB5qSBOLl96Y563nIewKOU8RN_gsY3dO'  # Make sure it's a string\n",
    "gdown.download(f'https://drive.google.com/uc?id={file_id}', 'data.csv', quiet=False)"
   ]
  },
  {
   "cell_type": "code",
   "execution_count": null,
   "id": "5f31ddae",
   "metadata": {},
   "outputs": [],
   "source": [
    "import pandas as pd\n",
    "import numpy as np\n"
   ]
  },
  {
   "cell_type": "code",
   "execution_count": 6,
   "id": "b15b91d3",
   "metadata": {},
   "outputs": [
    {
     "data": {
      "text/html": [
       "<div>\n",
       "<style scoped>\n",
       "    .dataframe tbody tr th:only-of-type {\n",
       "        vertical-align: middle;\n",
       "    }\n",
       "\n",
       "    .dataframe tbody tr th {\n",
       "        vertical-align: top;\n",
       "    }\n",
       "\n",
       "    .dataframe thead th {\n",
       "        text-align: right;\n",
       "    }\n",
       "</style>\n",
       "<table border=\"1\" class=\"dataframe\">\n",
       "  <thead>\n",
       "    <tr style=\"text-align: right;\">\n",
       "      <th></th>\n",
       "      <th>Unnamed: 0</th>\n",
       "      <th>country</th>\n",
       "      <th>food_category</th>\n",
       "      <th>consumption</th>\n",
       "      <th>co2_emission</th>\n",
       "    </tr>\n",
       "  </thead>\n",
       "  <tbody>\n",
       "    <tr>\n",
       "      <th>0</th>\n",
       "      <td>1</td>\n",
       "      <td>Argentina</td>\n",
       "      <td>pork</td>\n",
       "      <td>10.51</td>\n",
       "      <td>37.20</td>\n",
       "    </tr>\n",
       "    <tr>\n",
       "      <th>1</th>\n",
       "      <td>2</td>\n",
       "      <td>Argentina</td>\n",
       "      <td>poultry</td>\n",
       "      <td>38.66</td>\n",
       "      <td>41.53</td>\n",
       "    </tr>\n",
       "    <tr>\n",
       "      <th>2</th>\n",
       "      <td>3</td>\n",
       "      <td>Argentina</td>\n",
       "      <td>beef</td>\n",
       "      <td>55.48</td>\n",
       "      <td>1712.00</td>\n",
       "    </tr>\n",
       "    <tr>\n",
       "      <th>3</th>\n",
       "      <td>4</td>\n",
       "      <td>Argentina</td>\n",
       "      <td>lamb_goat</td>\n",
       "      <td>1.56</td>\n",
       "      <td>54.63</td>\n",
       "    </tr>\n",
       "    <tr>\n",
       "      <th>4</th>\n",
       "      <td>5</td>\n",
       "      <td>Argentina</td>\n",
       "      <td>fish</td>\n",
       "      <td>4.36</td>\n",
       "      <td>6.96</td>\n",
       "    </tr>\n",
       "  </tbody>\n",
       "</table>\n",
       "</div>"
      ],
      "text/plain": [
       "   Unnamed: 0    country food_category  consumption  co2_emission\n",
       "0           1  Argentina          pork        10.51         37.20\n",
       "1           2  Argentina       poultry        38.66         41.53\n",
       "2           3  Argentina          beef        55.48       1712.00\n",
       "3           4  Argentina     lamb_goat         1.56         54.63\n",
       "4           5  Argentina          fish         4.36          6.96"
      ]
     },
     "execution_count": 6,
     "metadata": {},
     "output_type": "execute_result"
    }
   ],
   "source": [
    "# Read the downloaded CSV file\n",
    "df = pd.read_csv('data.csv')\n",
    "df.head()"
   ]
  },
  {
   "cell_type": "code",
   "execution_count": 7,
   "id": "167b27cb",
   "metadata": {},
   "outputs": [
    {
     "data": {
      "text/html": [
       "<div>\n",
       "<style scoped>\n",
       "    .dataframe tbody tr th:only-of-type {\n",
       "        vertical-align: middle;\n",
       "    }\n",
       "\n",
       "    .dataframe tbody tr th {\n",
       "        vertical-align: top;\n",
       "    }\n",
       "\n",
       "    .dataframe thead th {\n",
       "        text-align: right;\n",
       "    }\n",
       "</style>\n",
       "<table border=\"1\" class=\"dataframe\">\n",
       "  <thead>\n",
       "    <tr style=\"text-align: right;\">\n",
       "      <th></th>\n",
       "      <th>Unnamed: 0</th>\n",
       "      <th>country</th>\n",
       "      <th>food_category</th>\n",
       "      <th>consumption</th>\n",
       "      <th>co2_emission</th>\n",
       "    </tr>\n",
       "  </thead>\n",
       "  <tbody>\n",
       "    <tr>\n",
       "      <th>2</th>\n",
       "      <td>3</td>\n",
       "      <td>Argentina</td>\n",
       "      <td>beef</td>\n",
       "      <td>55.48</td>\n",
       "      <td>1712.0</td>\n",
       "    </tr>\n",
       "  </tbody>\n",
       "</table>\n",
       "</div>"
      ],
      "text/plain": [
       "   Unnamed: 0    country food_category  consumption  co2_emission\n",
       "2           3  Argentina          beef        55.48        1712.0"
      ]
     },
     "execution_count": 7,
     "metadata": {},
     "output_type": "execute_result"
    }
   ],
   "source": [
    "# Select Argentina beef consumption\n",
    "arg_beef = df[(df[\"country\"]==\"Argentina\") & (df[\"food_category\"]==\"beef\")]\n",
    "arg_beef"
   ]
  },
  {
   "cell_type": "code",
   "execution_count": 8,
   "id": "8183e230",
   "metadata": {},
   "outputs": [
    {
     "data": {
      "text/plain": [
       "2    55.48\n",
       "Name: consumption, dtype: float64"
      ]
     },
     "execution_count": 8,
     "metadata": {},
     "output_type": "execute_result"
    }
   ],
   "source": [
    "arg_consump = arg_beef[\"consumption\"]\n",
    "arg_consump"
   ]
  },
  {
   "cell_type": "code",
   "execution_count": 10,
   "id": "195429dc",
   "metadata": {},
   "outputs": [
    {
     "name": "stdout",
     "output_type": "stream",
     "text": [
      "55.48\n",
      "Mean Beef Consumption (Argentina): 55.48\n"
     ]
    }
   ],
   "source": [
    "arg_consump_mean = arg_consump.mean()\n",
    "print(arg_consump_mean)\n",
    "print(\"Mean Beef Consumption (Argentina):\", arg_consump_mean)"
   ]
  },
  {
   "cell_type": "code",
   "execution_count": 12,
   "id": "711de7a9",
   "metadata": {},
   "outputs": [
    {
     "data": {
      "text/plain": [
       "array(['Argentina', 'Australia', 'Albania', 'Iceland', 'New Zealand',\n",
       "       'USA', 'Uruguay', 'Luxembourg', 'Brazil', 'Kazakhstan', 'Sweden',\n",
       "       'Bermuda', 'Denmark', 'Finland', 'Ireland', 'Greece', 'France',\n",
       "       'Canada', 'Norway', 'Hong Kong SAR. China', 'French Polynesia',\n",
       "       'Israel', 'Switzerland', 'Netherlands', 'Kuwait', 'United Kingdom',\n",
       "       'Austria', 'Oman', 'Italy', 'Bahamas', 'Portugal', 'Malta',\n",
       "       'Armenia', 'Slovenia', 'Chile', 'Venezuela', 'Belgium', 'Germany',\n",
       "       'Russia', 'Croatia', 'Belarus', 'Spain', 'Paraguay',\n",
       "       'New Caledonia', 'South Africa', 'Barbados', 'Lithuania', 'Turkey',\n",
       "       'Estonia', 'Mexico', 'Costa Rica', 'Bolivia', 'Ecuador', 'Panama',\n",
       "       'Czech Republic', 'Romania', 'Colombia', 'Maldives', 'Cyprus',\n",
       "       'Serbia', 'United Arab Emirates', 'Algeria', 'Ukraine', 'Pakistan',\n",
       "       'Swaziland', 'Latvia', 'Bosnia and Herzegovina', 'Fiji',\n",
       "       'South Korea', 'Poland', 'Saudi Arabia', 'Botswana', 'Macedonia',\n",
       "       'Hungary', 'Trinidad and Tobago', 'Tunisia', 'Egypt', 'Mauritius',\n",
       "       'Bulgaria', 'Morocco', 'Slovakia', 'Niger', 'Kenya', 'Jordan',\n",
       "       'Japan', 'Georgia', 'Grenada', 'El Salvador', 'Cuba', 'China',\n",
       "       'Honduras', 'Taiwan. ROC', 'Angola', 'Jamaica', 'Namibia',\n",
       "       'Belize', 'Malaysia', 'Zimbabwe', 'Guatemala', 'Uganda', 'Nepal',\n",
       "       'Iran', 'Tanzania', 'Senegal', 'Peru', 'Nicaragua', 'Vietnam',\n",
       "       'Ethiopia', 'Myanmar', 'Congo', 'Zambia', 'Cameroon', 'Madagascar',\n",
       "       'Malawi', 'Guinea', 'Nigeria', 'Rwanda', 'Philippines', 'Ghana',\n",
       "       'Togo', 'Gambia', 'India', 'Thailand', 'Mozambique', 'Cambodia',\n",
       "       'Sierra Leone', 'Sri Lanka', 'Indonesia', 'Liberia', 'Bangladesh'],\n",
       "      dtype=object)"
      ]
     },
     "execution_count": 12,
     "metadata": {},
     "output_type": "execute_result"
    }
   ],
   "source": [
    "df.country.unique()"
   ]
  },
  {
   "cell_type": "code",
   "execution_count": 13,
   "id": "25f3f625",
   "metadata": {},
   "outputs": [
    {
     "data": {
      "text/plain": [
       "array(['pork', 'poultry', 'beef', 'lamb_goat', 'fish', 'eggs', 'dairy',\n",
       "       'wheat', 'rice', 'soybeans', 'nuts'], dtype=object)"
      ]
     },
     "execution_count": 13,
     "metadata": {},
     "output_type": "execute_result"
    }
   ],
   "source": [
    "df.food_category.unique()"
   ]
  },
  {
   "cell_type": "code",
   "execution_count": null,
   "id": "ead40797",
   "metadata": {},
   "outputs": [
    {
     "data": {
      "text/html": [
       "<div>\n",
       "<style scoped>\n",
       "    .dataframe tbody tr th:only-of-type {\n",
       "        vertical-align: middle;\n",
       "    }\n",
       "\n",
       "    .dataframe tbody tr th {\n",
       "        vertical-align: top;\n",
       "    }\n",
       "\n",
       "    .dataframe thead th {\n",
       "        text-align: right;\n",
       "    }\n",
       "</style>\n",
       "<table border=\"1\" class=\"dataframe\">\n",
       "  <thead>\n",
       "    <tr style=\"text-align: right;\">\n",
       "      <th></th>\n",
       "      <th>Unnamed: 0</th>\n",
       "      <th>country</th>\n",
       "      <th>food_category</th>\n",
       "      <th>consumption</th>\n",
       "      <th>co2_emission</th>\n",
       "    </tr>\n",
       "  </thead>\n",
       "  <tbody>\n",
       "    <tr>\n",
       "      <th>1421</th>\n",
       "      <td>1422</td>\n",
       "      <td>Bangladesh</td>\n",
       "      <td>beef</td>\n",
       "      <td>1.28</td>\n",
       "      <td>39.5</td>\n",
       "    </tr>\n",
       "  </tbody>\n",
       "</table>\n",
       "</div>"
      ],
      "text/plain": [
       "      Unnamed: 0     country food_category  consumption  co2_emission\n",
       "1421        1422  Bangladesh          beef         1.28          39.5"
      ]
     },
     "execution_count": 16,
     "metadata": {},
     "output_type": "execute_result"
    }
   ],
   "source": [
    "# Select Bangladesh beef consumption\n",
    "bang_beef = df[(df['country'] == 'Bangladesh') & (df['food_category'] == 'beef')]\n",
    "bang_beef "
   ]
  },
  {
   "cell_type": "code",
   "execution_count": 17,
   "id": "564e7fb5",
   "metadata": {},
   "outputs": [
    {
     "data": {
      "text/plain": [
       "1421    1.28\n",
       "Name: consumption, dtype: float64"
      ]
     },
     "execution_count": 17,
     "metadata": {},
     "output_type": "execute_result"
    }
   ],
   "source": [
    "bang_consump = bang_beef[\"consumption\"]\n",
    "bang_consump"
   ]
  },
  {
   "cell_type": "code",
   "execution_count": 18,
   "id": "cb9f9d1c",
   "metadata": {},
   "outputs": [
    {
     "name": "stdout",
     "output_type": "stream",
     "text": [
      "1.28\n",
      "Mean Beef Consumption ('Bangladesh'): 1.28\n"
     ]
    }
   ],
   "source": [
    "bang_consump_mean = bang_consump.mean()\n",
    "print(bang_consump_mean)\n",
    "print(\"Mean Beef Consumption ('Bangladesh'):\", bang_consump_mean)"
   ]
  },
  {
   "cell_type": "code",
   "execution_count": 20,
   "id": "4291d635",
   "metadata": {},
   "outputs": [
    {
     "data": {
      "text/plain": [
       "array([49.81697987, 46.07652927, 66.64956469, 61.43782495, 52.82196811,\n",
       "       59.30167033, 54.96676805, 47.52865594, 54.91818881, 56.59172145,\n",
       "       56.82684833, 59.99674725, 61.34461429, 57.14320518, 54.18318822,\n",
       "       57.52412566, 63.21869091, 55.72013477, 56.5197562 , 59.4103942 ,\n",
       "       55.59826452, 59.42190366, 59.58725095, 57.97940338, 58.64393869,\n",
       "       69.55959228, 54.06001359, 54.17008461, 58.95021854, 55.37499851])"
      ]
     },
     "execution_count": 20,
     "metadata": {},
     "output_type": "execute_result"
    }
   ],
   "source": [
    "rg_beef_samples = np.random.normal(loc=arg_consump_mean, scale=5, size=30)\n",
    "rg_beef_samples"
   ]
  },
  {
   "cell_type": "code",
   "execution_count": 2,
   "id": "aaca823d",
   "metadata": {},
   "outputs": [
    {
     "ename": "NameError",
     "evalue": "name 'stats' is not defined",
     "output_type": "error",
     "traceback": [
      "\u001b[31m---------------------------------------------------------------------------\u001b[39m",
      "\u001b[31mNameError\u001b[39m                                 Traceback (most recent call last)",
      "\u001b[36mCell\u001b[39m\u001b[36m \u001b[39m\u001b[32mIn[2]\u001b[39m\u001b[32m, line 2\u001b[39m\n\u001b[32m      1\u001b[39m \u001b[38;5;66;03m# One-sample t-test\u001b[39;00m\n\u001b[32m----> \u001b[39m\u001b[32m2\u001b[39m t_stat, p_val = \u001b[43mstats\u001b[49m.ttest_1samp(rg_beef_samples, \u001b[32m50\u001b[39m)\n",
      "\u001b[31mNameError\u001b[39m: name 'stats' is not defined"
     ]
    }
   ],
   "source": [
    "# One-sample t-test\n",
    "t_stat, p_val = stats.ttest_1samp(rg_beef_samples, 50)"
   ]
  },
  {
   "cell_type": "code",
   "execution_count": 3,
   "id": "fa337f37",
   "metadata": {},
   "outputs": [],
   "source": [
    "import scipy as sp"
   ]
  },
  {
   "cell_type": "code",
   "execution_count": null,
   "id": "8e282df0",
   "metadata": {},
   "outputs": [],
   "source": [
    "rg_beef_samples = np.random.normal(loc=arg_consump_mean, scale=5, size=30)\n",
    "rg_beef_samples"
   ]
  }
 ],
 "metadata": {
  "kernelspec": {
   "display_name": "Python 3",
   "language": "python",
   "name": "python3"
  },
  "language_info": {
   "codemirror_mode": {
    "name": "ipython",
    "version": 3
   },
   "file_extension": ".py",
   "mimetype": "text/x-python",
   "name": "python",
   "nbconvert_exporter": "python",
   "pygments_lexer": "ipython3",
   "version": "3.13.6"
  }
 },
 "nbformat": 4,
 "nbformat_minor": 5
}
